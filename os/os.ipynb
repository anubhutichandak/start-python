{
 "cells": [
  {
   "cell_type": "markdown",
   "id": "fc13ecad",
   "metadata": {},
   "source": [
    "operating system"
   ]
  },
  {
   "cell_type": "code",
   "execution_count": 1,
   "id": "f5c86d55",
   "metadata": {},
   "outputs": [
    {
     "name": "stdout",
     "output_type": "stream",
     "text": [
      "Os module\n"
     ]
    }
   ],
   "source": [
    "print(\"Os module\")  \n",
    "import os "
   ]
  },
  {
   "cell_type": "code",
   "execution_count": 2,
   "id": "11246982",
   "metadata": {},
   "outputs": [
    {
     "name": "stdout",
     "output_type": "stream",
     "text": [
      "current working directory:- c:\\Users\\chand\\OneDrive\\Desktop\\start-python\\os\n"
     ]
    }
   ],
   "source": [
    "file =os.getcwd() # current working directory \n",
    "print(\"current working directory:-\",file)"
   ]
  },
  {
   "cell_type": "code",
   "execution_count": 3,
   "id": "8c3eb1a8",
   "metadata": {},
   "outputs": [
    {
     "name": "stdout",
     "output_type": "stream",
     "text": [
      "total list os current directory:- ['os.ipynb']\n"
     ]
    }
   ],
   "source": [
    "file =os.listdir()\n",
    "print(\"total list os current directory:-\",file)"
   ]
  },
  {
   "cell_type": "code",
   "execution_count": 4,
   "id": "1d4a6133",
   "metadata": {},
   "outputs": [
    {
     "name": "stdout",
     "output_type": "stream",
     "text": [
      "folder created successfully\n"
     ]
    }
   ],
   "source": [
    "os.mkdir(\"New_folder\") # creating folder\n",
    "print(\"folder created successfully\")"
   ]
  },
  {
   "cell_type": "code",
   "execution_count": 5,
   "id": "7111dc53",
   "metadata": {},
   "outputs": [
    {
     "name": "stdout",
     "output_type": "stream",
     "text": [
      "total list os current directory:- ['New_folder', 'os.ipynb']\n"
     ]
    }
   ],
   "source": [
    "file =os.listdir()\n",
    "print(\"total list os current directory:-\",file)"
   ]
  },
  {
   "cell_type": "code",
   "execution_count": 6,
   "id": "4805865b",
   "metadata": {},
   "outputs": [
    {
     "name": "stdout",
     "output_type": "stream",
     "text": [
      "folder renamed successfully\n"
     ]
    }
   ],
   "source": [
    "os.rename(\"New_folder\",\"Data_science\")\n",
    "print(\"folder renamed successfully\")"
   ]
  },
  {
   "cell_type": "code",
   "execution_count": 7,
   "id": "b3036228",
   "metadata": {},
   "outputs": [
    {
     "name": "stdout",
     "output_type": "stream",
     "text": [
      "total list os current directory:- ['Data_science', 'os.ipynb']\n"
     ]
    }
   ],
   "source": [
    "file =os.listdir()\n",
    "print(\"total list os current directory:-\",file)"
   ]
  },
  {
   "cell_type": "code",
   "execution_count": 8,
   "id": "fd5e9e9d",
   "metadata": {},
   "outputs": [
    {
     "name": "stdout",
     "output_type": "stream",
     "text": [
      "folder removed successfully\n"
     ]
    }
   ],
   "source": [
    "os.rmdir(\"Data_science\") # removing folder\n",
    "print(\"folder removed successfully\")"
   ]
  },
  {
   "cell_type": "code",
   "execution_count": 9,
   "id": "83ceeacc",
   "metadata": {},
   "outputs": [
    {
     "name": "stdout",
     "output_type": "stream",
     "text": [
      "total list os current directory:- ['os.ipynb']\n"
     ]
    }
   ],
   "source": [
    "file =os.listdir()\n",
    "print(\"total list os current directory:-\",file)"
   ]
  },
  {
   "cell_type": "code",
   "execution_count": 10,
   "id": "83bd8040",
   "metadata": {},
   "outputs": [],
   "source": [
    "# os.remove(\"poet.txt\") # removing file\n",
    "# print(\"file removed successfully\")"
   ]
  },
  {
   "cell_type": "code",
   "execution_count": 11,
   "id": "a0ee0b4d",
   "metadata": {},
   "outputs": [
    {
     "name": "stderr",
     "output_type": "stream",
     "text": [
      "<>:1: SyntaxWarning: invalid escape sequence '\\D'\n",
      "<>:1: SyntaxWarning: invalid escape sequence '\\D'\n",
      "C:\\Users\\chand\\AppData\\Local\\Temp\\ipykernel_19392\\706855394.py:1: SyntaxWarning: invalid escape sequence '\\D'\n",
      "  path = \"e:\\Desktop\\may 13\\1 may data science\\Stip_data-science-1st-may-\\os\"\n"
     ]
    }
   ],
   "source": [
    "path = \"e:\\Desktop\\may 13\\1 may data science\\Stip_data-science-1st-may-\\os\""
   ]
  },
  {
   "cell_type": "code",
   "execution_count": 12,
   "id": "2ce24d1f",
   "metadata": {},
   "outputs": [
    {
     "name": "stdout",
     "output_type": "stream",
     "text": [
      "path exist:- None\n"
     ]
    }
   ],
   "source": [
    "path =os.environ.get(path)\n",
    "print(\"path exist:-\",path)"
   ]
  },
  {
   "cell_type": "code",
   "execution_count": 13,
   "id": "6da722f0",
   "metadata": {},
   "outputs": [
    {
     "name": "stderr",
     "output_type": "stream",
     "text": [
      "<>:1: SyntaxWarning: invalid escape sequence '\\D'\n",
      "<>:1: SyntaxWarning: invalid escape sequence '\\D'\n",
      "C:\\Users\\chand\\AppData\\Local\\Temp\\ipykernel_19392\\2023626490.py:1: SyntaxWarning: invalid escape sequence '\\D'\n",
      "  os.system(\"e:\\Desktop\\may 13\") # system command\n"
     ]
    },
    {
     "data": {
      "text/plain": [
       "1"
      ]
     },
     "execution_count": 13,
     "metadata": {},
     "output_type": "execute_result"
    }
   ],
   "source": [
    "os.system(\"e:\\Desktop\\may 13\") # system command"
   ]
  },
  {
   "cell_type": "code",
   "execution_count": 14,
   "id": "4b066c18",
   "metadata": {},
   "outputs": [
    {
     "data": {
      "text/plain": [
       "['.git',\n",
       " 'basic.py',\n",
       " 'class.ipynb',\n",
       " 'conditional.ipynb',\n",
       " 'encapsulation.ipynb',\n",
       " 'exceptionhandaling.ipynb',\n",
       " 'filehandling.ipynb',\n",
       " 'function.ipynb',\n",
       " 'inheritance.ipynb',\n",
       " 'inhertance.ipynb',\n",
       " 'kapil.txt',\n",
       " 'looping.ipynb',\n",
       " 'mathplotlib',\n",
       " 'numpay',\n",
       " 'os',\n",
       " 'poet.txt',\n",
       " 'poet2.txt',\n",
       " 'poet4.txt',\n",
       " 'polymorphism.ipynb',\n",
       " 'README.md',\n",
       " 'seaborn']"
      ]
     },
     "execution_count": 14,
     "metadata": {},
     "output_type": "execute_result"
    }
   ],
   "source": [
    "os.listdir(r\"C:\\Users\\chand\\OneDrive\\Desktop\\start-python\")"
   ]
  },
  {
   "cell_type": "code",
   "execution_count": 15,
   "id": "9d7b5742",
   "metadata": {},
   "outputs": [
    {
     "data": {
      "text/plain": [
       "False"
      ]
     },
     "execution_count": 15,
     "metadata": {},
     "output_type": "execute_result"
    }
   ],
   "source": [
    "os.path.isfile(r\"C:\\Users\\chand\\OneDrive\\Desktop\\start-python\")"
   ]
  },
  {
   "cell_type": "code",
   "execution_count": 16,
   "id": "6943f25e",
   "metadata": {},
   "outputs": [
    {
     "data": {
      "text/plain": [
       "True"
      ]
     },
     "execution_count": 16,
     "metadata": {},
     "output_type": "execute_result"
    }
   ],
   "source": [
    "os.path.isdir(r\"C:\\Users\\chand\\OneDrive\\Desktop\\start-python\")"
   ]
  },
  {
   "cell_type": "code",
   "execution_count": 18,
   "id": "2a6645fa",
   "metadata": {},
   "outputs": [
    {
     "name": "stdout",
     "output_type": "stream",
     "text": [
      "your complete path:- C:\\Users\\chand\\OneDrive\\Desktop\\start-python\n",
      "your list:- ['.git', 'basic.py', 'class.ipynb', 'conditional.ipynb', 'encapsulation.ipynb', 'exceptionhandaling.ipynb', 'filehandling.ipynb', 'function.ipynb', 'inheritance.ipynb', 'inhertance.ipynb', 'kapil.txt', 'looping.ipynb', 'mathplotlib', 'numpay', 'os', 'poet.txt', 'poet2.txt', 'poet4.txt', 'polymorphism.ipynb', 'README.md', 'seaborn']\n"
     ]
    }
   ],
   "source": [
    "path1 = r\"C:\\Users\\chand\\OneDrive\"\n",
    "path2 = r\"Desktop\\start-python\"\n",
    "\n",
    "complete_path=os.path.join(path1,path2)\n",
    "print(\"your complete path:-\",complete_path)\n",
    "print(\"your list:-\",os.listdir(complete_path))"
   ]
  },
  {
   "cell_type": "code",
   "execution_count": 19,
   "id": "e046262b",
   "metadata": {},
   "outputs": [
    {
     "name": "stdout",
     "output_type": "stream",
     "text": [
      "size of file (in bytes):- 4096\n"
     ]
    }
   ],
   "source": [
    "size = os.path.getsize(r\"C:\\Users\\chand\\OneDrive\\Desktop\\start-python\")\n",
    "print(\"size of file (in bytes):-\",size)"
   ]
  },
  {
   "cell_type": "code",
   "execution_count": 20,
   "id": "76cbdca0",
   "metadata": {},
   "outputs": [
    {
     "name": "stdout",
     "output_type": "stream",
     "text": [
      "before dir  c:\\Users\\chand\\OneDrive\\Desktop\\start-python\\os\n",
      "after dir C:\\Users\\chand\\OneDrive\\Desktop\\start-python\n"
     ]
    }
   ],
   "source": [
    "print(\"before dir \", os.getcwd())\n",
    "os.chdir(r\"C:\\Users\\chand\\OneDrive\\Desktop\\start-python\")\n",
    "print(\"after dir\",os.getcwd())"
   ]
  },
  {
   "cell_type": "code",
   "execution_count": null,
   "id": "32f5deae",
   "metadata": {},
   "outputs": [],
   "source": []
  }
 ],
 "metadata": {
  "kernelspec": {
   "display_name": "Python 3",
   "language": "python",
   "name": "python3"
  },
  "language_info": {
   "codemirror_mode": {
    "name": "ipython",
    "version": 3
   },
   "file_extension": ".py",
   "mimetype": "text/x-python",
   "name": "python",
   "nbconvert_exporter": "python",
   "pygments_lexer": "ipython3",
   "version": "3.12.6"
  }
 },
 "nbformat": 4,
 "nbformat_minor": 5
}
