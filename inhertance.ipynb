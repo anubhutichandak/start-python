{
 "cells": [
  {
   "cell_type": "markdown",
   "id": "39d67c4f",
   "metadata": {},
   "source": [
    "inheritance in python"
   ]
  },
  {
   "cell_type": "code",
   "execution_count": 1,
   "id": "9c9e31ea",
   "metadata": {},
   "outputs": [
    {
     "data": {
      "text/plain": [
       "('Hanuram ji ', 'Radha ji ', 'Ritik', 20)"
      ]
     },
     "execution_count": 1,
     "metadata": {},
     "output_type": "execute_result"
    }
   ],
   "source": [
    "#single inheritance \n",
    "class Parent:\n",
    "    Father_name=\"Hanuram ji \"\n",
    "    Mother_name=\"Radha ji \"\n",
    "    \n",
    "\n",
    "class Child(Parent):\n",
    "    child_name=\"Ritik\"\n",
    "    child_age = 20  \n",
    "chile_obj=Child()\n",
    "\n",
    "chile_obj.Father_name , chile_obj.Mother_name, chile_obj.child_name, chile_obj.child_age"
   ]
  },
  {
   "cell_type": "code",
   "execution_count": 2,
   "id": "37c947b6",
   "metadata": {},
   "outputs": [
    {
     "name": "stdout",
     "output_type": "stream",
     "text": [
      "grand father name:-Ramesh\n",
      " grand mother name:-Radha\n",
      " father name:-Rajesh\n",
      " mother name:-kamla devi\n",
      " child name:-Ritik\n",
      " child age:-20\n"
     ]
    }
   ],
   "source": [
    "#Multileval inheritance\n",
    "class Grand_Father:\n",
    "    grand_father_name=\"Ramesh\"\n",
    "    grans_mother_name=\"Radha\"\n",
    "class Father(Grand_Father):\n",
    "    father_name = \"Rajesh\"\n",
    "    mother_name=\"kamla devi\"\n",
    "class Child(Father):\n",
    "    child_name=\"Ritik\"\n",
    "    child_age=20\n",
    "    \n",
    "chile_obj=Child()\n",
    "\n",
    "print(f\"grand father name:-{chile_obj.grand_father_name}\")\n",
    "print(f\" grand mother name:-{chile_obj.grans_mother_name}\")\n",
    "print(f\" father name:-{chile_obj.father_name}\")\n",
    "print(f\" mother name:-{chile_obj.mother_name}\")\n",
    "print(f\" child name:-{chile_obj.child_name}\")\n",
    "print(f\" child age:-{chile_obj.child_age}\")"
   ]
  },
  {
   "cell_type": "code",
   "execution_count": 3,
   "id": "c44a2532",
   "metadata": {},
   "outputs": [
    {
     "name": "stdout",
     "output_type": "stream",
     "text": [
      "grand father name:-Ramesh\n",
      " grand mother name:-Radha\n",
      " father name:-Rajesh\n",
      " mother name:-kamla devi\n",
      " child name:-Ritik\n",
      " child age:-20\n"
     ]
    }
   ],
   "source": [
    "# multipale inheritance\n",
    "class grand_father:\n",
    "    grand_father_name=\"Ramesh\"\n",
    "    grans_mother_name=\"Radha\"\n",
    "class Father(grand_father):\n",
    "    father_name = \"Rajesh\"\n",
    "    mother_name=\"kamla devi\"\n",
    "class Child(Father,grand_father):\n",
    "    child_name=\"Ritik\"\n",
    "    child_age=20\n",
    "    \n",
    "chile_obj=Child()\n",
    "\n",
    "print(f\"grand father name:-{chile_obj.grand_father_name}\")\n",
    "print(f\" grand mother name:-{chile_obj.grans_mother_name}\")\n",
    "print(f\" father name:-{chile_obj.father_name}\")\n",
    "print(f\" mother name:-{chile_obj.mother_name}\")\n",
    "print(f\" child name:-{chile_obj.child_name}\")\n",
    "print(f\" child age:-{chile_obj.child_age}\")"
   ]
  },
  {
   "cell_type": "code",
   "execution_count": null,
   "id": "de6641d1",
   "metadata": {},
   "outputs": [],
   "source": []
  }
 ],
 "metadata": {
  "kernelspec": {
   "display_name": "Python 3",
   "language": "python",
   "name": "python3"
  },
  "language_info": {
   "codemirror_mode": {
    "name": "ipython",
    "version": 3
   },
   "file_extension": ".py",
   "mimetype": "text/x-python",
   "name": "python",
   "nbconvert_exporter": "python",
   "pygments_lexer": "ipython3",
   "version": "3.13.3"
  }
 },
 "nbformat": 4,
 "nbformat_minor": 5
}
