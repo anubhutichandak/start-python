{
 "cells": [
  {
   "cell_type": "markdown",
   "id": "0cd923d7",
   "metadata": {},
   "source": [
    "#### File Handling \n",
    "\n",
    "| Mode  | Meaning            | Description                                                                          |\n",
    "| ----- | ------------------ | ------------------------------------------------------------------------------------ |\n",
    "| 'r' | Read               | Opens a file for reading. File must exist.                                           |\n",
    "| 'w' | Write              | Opens a file for writing. Creates a new file or *overwrites* if it exists.         |\n",
    "| 'a' | Append             | Opens a file for appending. Creates if not exists; *adds to the end*.              |\n",
    "| 'x' | Exclusive creation | Creates a file, **fails if file                         |"
   ]
  },
  {
   "cell_type": "code",
   "execution_count": 3,
   "id": "846cd2c8",
   "metadata": {},
   "outputs": [],
   "source": [
    "file =open(\"poet.txt\",'r')\n",
    "file.read()\n",
    "file.close()"
   ]
  },
  {
   "cell_type": "code",
   "execution_count": 4,
   "id": "66664da2",
   "metadata": {},
   "outputs": [],
   "source": [
    "file =open(\"poet2.txt\",'w')\n",
    "file.write(\"aap kese ho and data sciecne kesa hai \")\n",
    "file.close()\n"
   ]
  },
  {
   "cell_type": "code",
   "execution_count": 5,
   "id": "e87d7512",
   "metadata": {},
   "outputs": [],
   "source": [
    "file =open(\"poet2.txt\",'r')\n",
    "file.read()\n",
    "file.close()"
   ]
  },
  {
   "cell_type": "code",
   "execution_count": 6,
   "id": "819b93c4",
   "metadata": {},
   "outputs": [
    {
     "name": "stdout",
     "output_type": "stream",
     "text": [
      "aap kese ho and data sciecne kesa hai \n"
     ]
    }
   ],
   "source": [
    "with open(\"poet2.txt\") as file:\n",
    "    print(file.read())"
   ]
  },
  {
   "cell_type": "code",
   "execution_count": 7,
   "id": "ea570494",
   "metadata": {},
   "outputs": [],
   "source": [
    "file =open(\"poet4.txt\", \"a\")\n",
    "file.write(\"aap kese ho and data sciecne kesa hai \")\n",
    "file.close()"
   ]
  },
  {
   "cell_type": "code",
   "execution_count": 8,
   "id": "ef6a26b4",
   "metadata": {},
   "outputs": [
    {
     "data": {
      "text/plain": [
       "'aap kese ho and data sciecne kesa hai '"
      ]
     },
     "execution_count": 8,
     "metadata": {},
     "output_type": "execute_result"
    }
   ],
   "source": [
    "open(\"poet2.txt\", \"r\").read()"
   ]
  },
  {
   "cell_type": "code",
   "execution_count": 9,
   "id": "d7cddf67",
   "metadata": {},
   "outputs": [],
   "source": [
    "file =open(\"kapil.txt\", \"x\") # ager file hai to ye error de dega or ager file nhi hai to ye file create krega\n",
    "file.close()"
   ]
  },
  {
   "cell_type": "code",
   "execution_count": 10,
   "id": "b1720c61",
   "metadata": {},
   "outputs": [
    {
     "data": {
      "text/plain": [
       "''"
      ]
     },
     "execution_count": 10,
     "metadata": {},
     "output_type": "execute_result"
    }
   ],
   "source": [
    "open(\"kapil.txt\", \"r\").read()"
   ]
  },
  {
   "cell_type": "code",
   "execution_count": 11,
   "id": "2752db64",
   "metadata": {},
   "outputs": [
    {
     "data": {
      "text/plain": [
       "38"
      ]
     },
     "execution_count": 11,
     "metadata": {},
     "output_type": "execute_result"
    }
   ],
   "source": [
    "open(\"kapil.txt\", \"w\").write(\"aap kese ho and data sciecne kesa hai \")"
   ]
  },
  {
   "cell_type": "code",
   "execution_count": 12,
   "id": "58ad6948",
   "metadata": {},
   "outputs": [
    {
     "data": {
      "text/plain": [
       "'aap kese ho and data sciecne kesa hai '"
      ]
     },
     "execution_count": 12,
     "metadata": {},
     "output_type": "execute_result"
    }
   ],
   "source": [
    "open(\"kapil.txt\", \"r\").read()"
   ]
  },
  {
   "cell_type": "code",
   "execution_count": null,
   "id": "a873471b",
   "metadata": {},
   "outputs": [],
   "source": []
  }
 ],
 "metadata": {
  "kernelspec": {
   "display_name": "Python 3",
   "language": "python",
   "name": "python3"
  },
  "language_info": {
   "codemirror_mode": {
    "name": "ipython",
    "version": 3
   },
   "file_extension": ".py",
   "mimetype": "text/x-python",
   "name": "python",
   "nbconvert_exporter": "python",
   "pygments_lexer": "ipython3",
   "version": "3.13.3"
  }
 },
 "nbformat": 4,
 "nbformat_minor": 5
}
