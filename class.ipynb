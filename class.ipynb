{
 "cells": [
  {
   "cell_type": "markdown",
   "id": "c50065dd",
   "metadata": {},
   "source": [
    "oops"
   ]
  },
  {
   "cell_type": "markdown",
   "id": "50fad904",
   "metadata": {},
   "source": [
    "class "
   ]
  },
  {
   "cell_type": "code",
   "execution_count": 4,
   "id": "25962d6d",
   "metadata": {},
   "outputs": [],
   "source": [
    "class Student:\n",
    "    pass"
   ]
  },
  {
   "cell_type": "code",
   "execution_count": null,
   "id": "0098ddec",
   "metadata": {},
   "outputs": [],
   "source": [
    "class Person:  #frist letter of class should be capital\n",
    "   name = \"ANUBHUTI\" \n",
    "   age = 19"
   ]
  },
  {
   "cell_type": "code",
   "execution_count": 2,
   "id": "6f24654c",
   "metadata": {},
   "outputs": [],
   "source": [
    "obj = Person()"
   ]
  },
  {
   "cell_type": "code",
   "execution_count": 5,
   "id": "863eb5c4",
   "metadata": {},
   "outputs": [
    {
     "name": "stdout",
     "output_type": "stream",
     "text": [
      "ANUBHUTI\n",
      "19\n"
     ]
    }
   ],
   "source": [
    "print(obj.name)\n",
    "print(obj.age)"
   ]
  },
  {
   "cell_type": "code",
   "execution_count": 1,
   "id": "c835ce3b",
   "metadata": {},
   "outputs": [],
   "source": [
    "class Bank:\n",
    "    name = \"anu\"\n",
    "    age = 20\n",
    "    address = \"dehli\"\n",
    "    pincode = 110001\n",
    "    mobile = 99999999999\n",
    "    balance = 10000\n",
    "bank_obj = Bank() #object\n",
    "    "
   ]
  },
  {
   "cell_type": "code",
   "execution_count": 2,
   "id": "19a1c839",
   "metadata": {},
   "outputs": [
    {
     "name": "stdout",
     "output_type": "stream",
     "text": [
      "bank name:- anu\n",
      "bank age:- 20\n",
      "bank address:- dehli\n",
      "bank pincode:- 110001\n",
      "bank mobile:- 99999999999\n",
      "bank balance:- 10000\n"
     ]
    }
   ],
   "source": [
    "print(\"bank name:-\",bank_obj.name)\n",
    "print(\"bank age:-\",bank_obj.age)\n",
    "print(\"bank address:-\",bank_obj.address)\n",
    "print(\"bank pincode:-\",bank_obj.pincode)\n",
    "print(\"bank mobile:-\",bank_obj.mobile)\n",
    "print(\"bank balance:-\",bank_obj.balance)"
   ]
  },
  {
   "cell_type": "code",
   "execution_count": null,
   "id": "0ff30a32",
   "metadata": {},
   "outputs": [],
   "source": [
    "class Bank:\n",
    "    name = \"anu\"\n",
    "    age =\"20\"\n",
    "    address = \"dehli\"\n",
    "    pincode = 110001\n",
    "    mobile = 99999999999\n",
    "    balance = 10000\n",
    "    \n",
    "    def show_info(self):\n",
    "        print(self.name)\n",
    "        print(self.age)\n",
    "        print(self.address)\n",
    "        print(self.balance)\n",
    "        print(self.mobile)\n",
    "bank_obj = Bank()"
   ]
  },
  {
   "cell_type": "code",
   "execution_count": 6,
   "id": "6ddce74b",
   "metadata": {},
   "outputs": [
    {
     "name": "stdout",
     "output_type": "stream",
     "text": [
      "anu\n",
      "20\n",
      "dehli\n",
      "10000\n",
      "99999999999\n"
     ]
    }
   ],
   "source": [
    "bank_obj.show_info()"
   ]
  },
  {
   "cell_type": "markdown",
   "id": "622cceff",
   "metadata": {},
   "source": [
    "constructor"
   ]
  },
  {
   "cell_type": "code",
   "execution_count": null,
   "id": "20725ae5",
   "metadata": {},
   "outputs": [],
   "source": [
    "class Bank:\n",
    "    mera_name=\"anu\"    #class variable\n",
    "    def __init__(self):   #create constructor\n",
    "        self.name=\"anu\"  #instane variable\n",
    "        self.age=20\n",
    "bank_obj=Bank()"
   ]
  },
  {
   "cell_type": "code",
   "execution_count": 7,
   "id": "bc5bb172",
   "metadata": {},
   "outputs": [
    {
     "name": "stdout",
     "output_type": "stream",
     "text": [
      "anu\n",
      "20\n"
     ]
    }
   ],
   "source": [
    "print(bank_obj.name)\n",
    "print(bank_obj.age)"
   ]
  },
  {
   "cell_type": "code",
   "execution_count": 8,
   "id": "319283d9",
   "metadata": {},
   "outputs": [],
   "source": [
    "class Bank:\n",
    "    mera_name = \"anu\"\n",
    "    def __init__(self,name,address,pincode,balance):\n",
    "        self.name = name\n",
    "        self.address = address\n",
    "        self.pincode = pincode\n",
    "        self.balance = balance\n",
    "obj_bank1 = Bank(name =\"anu\",address = \"delhi\", pincode =110001,balance = 10000)"
   ]
  },
  {
   "cell_type": "code",
   "execution_count": 10,
   "id": "8202d42d",
   "metadata": {},
   "outputs": [
    {
     "data": {
      "text/plain": [
       "'anu'"
      ]
     },
     "execution_count": 10,
     "metadata": {},
     "output_type": "execute_result"
    }
   ],
   "source": [
    "obj_bank1.name"
   ]
  },
  {
   "cell_type": "code",
   "execution_count": 11,
   "id": "ae2a2765",
   "metadata": {},
   "outputs": [
    {
     "data": {
      "text/plain": [
       "'delhi'"
      ]
     },
     "execution_count": 11,
     "metadata": {},
     "output_type": "execute_result"
    }
   ],
   "source": [
    "obj_bank1.address"
   ]
  },
  {
   "cell_type": "code",
   "execution_count": 12,
   "id": "e026b320",
   "metadata": {},
   "outputs": [],
   "source": [
    "kapil_bank=Bank(name=\"kapil\",address=\"delhi\",pincode=235,balance=20000)\n"
   ]
  },
  {
   "cell_type": "code",
   "execution_count": 13,
   "id": "cb469f40",
   "metadata": {},
   "outputs": [
    {
     "data": {
      "text/plain": [
       "'kapil'"
      ]
     },
     "execution_count": 13,
     "metadata": {},
     "output_type": "execute_result"
    }
   ],
   "source": [
    "kapil_bank.name\n"
   ]
  }
 ],
 "metadata": {
  "kernelspec": {
   "display_name": "Python 3",
   "language": "python",
   "name": "python3"
  },
  "language_info": {
   "codemirror_mode": {
    "name": "ipython",
    "version": 3
   },
   "file_extension": ".py",
   "mimetype": "text/x-python",
   "name": "python",
   "nbconvert_exporter": "python",
   "pygments_lexer": "ipython3",
   "version": "3.12.6"
  }
 },
 "nbformat": 4,
 "nbformat_minor": 5
}
