{
 "cells": [
  {
   "cell_type": "markdown",
   "id": "50fad904",
   "metadata": {},
   "source": [
    "class "
   ]
  },
  {
   "cell_type": "code",
   "execution_count": 2,
   "id": "0098ddec",
   "metadata": {},
   "outputs": [],
   "source": [
    "class Person:\n",
    "   name = \"ANUBHUTI\"\n",
    "   age = 19"
   ]
  },
  {
   "cell_type": "code",
   "execution_count": 3,
   "id": "6f24654c",
   "metadata": {},
   "outputs": [],
   "source": [
    "obj = Person()"
   ]
  },
  {
   "cell_type": "code",
   "execution_count": 4,
   "id": "863eb5c4",
   "metadata": {},
   "outputs": [
    {
     "name": "stdout",
     "output_type": "stream",
     "text": [
      "ANUBHUTI\n"
     ]
    }
   ],
   "source": [
    "print(obj.name)"
   ]
  },
  {
   "cell_type": "code",
   "execution_count": null,
   "id": "c835ce3b",
   "metadata": {},
   "outputs": [],
   "source": []
  }
 ],
 "metadata": {
  "kernelspec": {
   "display_name": "Python 3",
   "language": "python",
   "name": "python3"
  },
  "language_info": {
   "codemirror_mode": {
    "name": "ipython",
    "version": 3
   },
   "file_extension": ".py",
   "mimetype": "text/x-python",
   "name": "python",
   "nbconvert_exporter": "python",
   "pygments_lexer": "ipython3",
   "version": "3.12.6"
  }
 },
 "nbformat": 4,
 "nbformat_minor": 5
}
