{
 "cells": [
  {
   "cell_type": "code",
   "execution_count": 1,
   "id": "4d9a5d7b",
   "metadata": {},
   "outputs": [
    {
     "name": "stdout",
     "output_type": "stream",
     "text": [
      "number is odd\n"
     ]
    }
   ],
   "source": [
    "num = 7\n",
    "if num % 2 == 0 :\n",
    "    print(\"number is even\")\n",
    "else:\n",
    "    print(\"number is odd\")"
   ]
  },
  {
   "cell_type": "code",
   "execution_count": 2,
   "id": "12d62240",
   "metadata": {},
   "outputs": [
    {
     "name": "stdout",
     "output_type": "stream",
     "text": [
      "x is between 10 to 20\n"
     ]
    }
   ],
   "source": [
    "x = 15 \n",
    "if x>10:\n",
    "    if x<20:\n",
    "        print(\"x is between 10 to 20\")"
   ]
  },
  {
   "cell_type": "code",
   "execution_count": 3,
   "id": "0a1acffb",
   "metadata": {},
   "outputs": [],
   "source": [
    "x = 15\n",
    "if x>0:\n",
    "    pass"
   ]
  },
  {
   "cell_type": "code",
   "execution_count": 4,
   "id": "e647a214",
   "metadata": {},
   "outputs": [
    {
     "name": "stdout",
     "output_type": "stream",
     "text": [
      "x is greater than 50\n"
     ]
    }
   ],
   "source": [
    "x = 70\n",
    "if x >100:\n",
    "    print(\"x is greater than 100\")\n",
    "elif x>50:\n",
    "    print(\"x is greater than 50\")\n",
    "else:\n",
    "    print(\"x is less than 50\")"
   ]
  },
  {
   "cell_type": "code",
   "execution_count": 5,
   "id": "1b1f7c70",
   "metadata": {},
   "outputs": [
    {
     "name": "stdout",
     "output_type": "stream",
     "text": [
      "x is greater than 6\n"
     ]
    }
   ],
   "source": [
    "x = 11 \n",
    "if x>6:\n",
    "    print(\"x is greater than 6\")\n",
    "else:\n",
    "    print(\"x is less than 6\")"
   ]
  },
  {
   "cell_type": "code",
   "execution_count": 6,
   "id": "599782bd",
   "metadata": {},
   "outputs": [
    {
     "name": "stdout",
     "output_type": "stream",
     "text": [
      "x is greater than 2\n"
     ]
    }
   ],
   "source": [
    "x = 11 \n",
    "if x>2:\n",
    "    print(\"x is greater than 2\")"
   ]
  }
 ],
 "metadata": {
  "kernelspec": {
   "display_name": "Python 3",
   "language": "python",
   "name": "python3"
  },
  "language_info": {
   "codemirror_mode": {
    "name": "ipython",
    "version": 3
   },
   "file_extension": ".py",
   "mimetype": "text/x-python",
   "name": "python",
   "nbconvert_exporter": "python",
   "pygments_lexer": "ipython3",
   "version": "3.12.6"
  }
 },
 "nbformat": 4,
 "nbformat_minor": 5
}
