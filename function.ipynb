{
 "cells": [
  {
   "cell_type": "markdown",
   "id": "6a50649b",
   "metadata": {},
   "source": [
    "function in python"
   ]
  },
  {
   "cell_type": "code",
   "execution_count": 1,
   "id": "441c0079",
   "metadata": {},
   "outputs": [],
   "source": [
    "def fun_name():\n",
    "    #code\n",
    "    pass\n",
    "fun_name()"
   ]
  },
  {
   "cell_type": "code",
   "execution_count": 2,
   "id": "7e2ad1bc",
   "metadata": {},
   "outputs": [],
   "source": [
    "def temp():\n",
    "    print(\"hello world\")"
   ]
  },
  {
   "cell_type": "code",
   "execution_count": 4,
   "id": "ecc522ef",
   "metadata": {},
   "outputs": [
    {
     "name": "stdout",
     "output_type": "stream",
     "text": [
      "hello world\n"
     ]
    }
   ],
   "source": [
    "temp()"
   ]
  },
  {
   "cell_type": "code",
   "execution_count": 18,
   "id": "2fd3609a",
   "metadata": {},
   "outputs": [],
   "source": [
    "def demo(name):\n",
    "    print(f\"hello {name} \")"
   ]
  },
  {
   "cell_type": "code",
   "execution_count": 19,
   "id": "d3a692c4",
   "metadata": {},
   "outputs": [
    {
     "name": "stdout",
     "output_type": "stream",
     "text": [
      "hello vikram \n"
     ]
    }
   ],
   "source": [
    "demo(name = \"vikram\")"
   ]
  },
  {
   "cell_type": "code",
   "execution_count": 22,
   "id": "289e81b5",
   "metadata": {},
   "outputs": [
    {
     "name": "stdout",
     "output_type": "stream",
     "text": [
      "hello anu \n"
     ]
    }
   ],
   "source": [
    "demo(\"anu\")"
   ]
  },
  {
   "cell_type": "code",
   "execution_count": 20,
   "id": "b6f11616",
   "metadata": {},
   "outputs": [],
   "source": [
    "def mul_table(num1,num2):\n",
    "    print(num1*num2)\n",
    "    "
   ]
  },
  {
   "cell_type": "code",
   "execution_count": 21,
   "id": "720e222d",
   "metadata": {},
   "outputs": [
    {
     "name": "stdout",
     "output_type": "stream",
     "text": [
      "6\n"
     ]
    }
   ],
   "source": [
    "mul_table(2,3)"
   ]
  },
  {
   "cell_type": "code",
   "execution_count": 7,
   "id": "d483279a",
   "metadata": {},
   "outputs": [],
   "source": [
    "def add (a,b):\n",
    "    return a+b"
   ]
  },
  {
   "cell_type": "code",
   "execution_count": 8,
   "id": "315a7f0c",
   "metadata": {},
   "outputs": [],
   "source": [
    "result = add(a = 2 , b = 3)"
   ]
  },
  {
   "cell_type": "code",
   "execution_count": 17,
   "id": "690a46fd",
   "metadata": {},
   "outputs": [
    {
     "name": "stdout",
     "output_type": "stream",
     "text": [
      "5\n"
     ]
    }
   ],
   "source": [
    "print(result)"
   ]
  },
  {
   "cell_type": "code",
   "execution_count": 9,
   "id": "31d4e43a",
   "metadata": {},
   "outputs": [
    {
     "name": "stdout",
     "output_type": "stream",
     "text": [
      "hello Guest \n"
     ]
    }
   ],
   "source": [
    "def greet(name = \"Guest \"):\n",
    "    print(f\"hello {name}\")\n",
    "greet()"
   ]
  },
  {
   "cell_type": "code",
   "execution_count": 16,
   "id": "fc3e4852",
   "metadata": {},
   "outputs": [
    {
     "name": "stdout",
     "output_type": "stream",
     "text": [
      "hello ravi\n"
     ]
    }
   ],
   "source": [
    "greet(name=\"ravi\")"
   ]
  },
  {
   "cell_type": "markdown",
   "id": "291a991f",
   "metadata": {},
   "source": [
    "lambda function"
   ]
  },
  {
   "cell_type": "code",
   "execution_count": 12,
   "id": "64a6cadd",
   "metadata": {},
   "outputs": [
    {
     "name": "stdout",
     "output_type": "stream",
     "text": [
      "5\n",
      "6\n",
      "8\n",
      "11\n"
     ]
    }
   ],
   "source": [
    "#lambda args : expression\n",
    "\n",
    "lambda a , b : a+b\n",
    "print(add(2,3))\n",
    "print(add(2,4))\n",
    "print(add(2,6))\n",
    "print(add(8,3))"
   ]
  },
  {
   "cell_type": "code",
   "execution_count": 15,
   "id": "b999f02b",
   "metadata": {},
   "outputs": [
    {
     "name": "stdout",
     "output_type": "stream",
     "text": [
      "9\n",
      "16\n",
      "36\n"
     ]
    }
   ],
   "source": [
    "squ = lambda a : a*a\n",
    "print(squ(3))\n",
    "print(squ(4))\n",
    "print(squ(6))"
   ]
  }
 ],
 "metadata": {
  "kernelspec": {
   "display_name": "Python 3",
   "language": "python",
   "name": "python3"
  },
  "language_info": {
   "codemirror_mode": {
    "name": "ipython",
    "version": 3
   },
   "file_extension": ".py",
   "mimetype": "text/x-python",
   "name": "python",
   "nbconvert_exporter": "python",
   "pygments_lexer": "ipython3",
   "version": "3.12.6"
  }
 },
 "nbformat": 4,
 "nbformat_minor": 5
}
