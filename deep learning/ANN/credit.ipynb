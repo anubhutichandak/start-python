{
 "cells": [
  {
   "cell_type": "code",
   "execution_count": 47,
   "id": "4ccde8d0",
   "metadata": {},
   "outputs": [
    {
     "name": "stdout",
     "output_type": "stream",
     "text": [
      "Requirement already satisfied: tensorflow in c:\\users\\chand\\appdata\\local\\programs\\python\\python311\\lib\\site-packages (2.19.0)\n",
      "Requirement already satisfied: absl-py>=1.0.0 in c:\\users\\chand\\appdata\\local\\programs\\python\\python311\\lib\\site-packages (from tensorflow) (2.2.2)\n",
      "Requirement already satisfied: astunparse>=1.6.0 in c:\\users\\chand\\appdata\\local\\programs\\python\\python311\\lib\\site-packages (from tensorflow) (1.6.3)\n",
      "Requirement already satisfied: flatbuffers>=24.3.25 in c:\\users\\chand\\appdata\\local\\programs\\python\\python311\\lib\\site-packages (from tensorflow) (25.2.10)\n",
      "Requirement already satisfied: gast!=0.5.0,!=0.5.1,!=0.5.2,>=0.2.1 in c:\\users\\chand\\appdata\\local\\programs\\python\\python311\\lib\\site-packages (from tensorflow) (0.6.0)\n",
      "Requirement already satisfied: google-pasta>=0.1.1 in c:\\users\\chand\\appdata\\local\\programs\\python\\python311\\lib\\site-packages (from tensorflow) (0.2.0)\n",
      "Requirement already satisfied: libclang>=13.0.0 in c:\\users\\chand\\appdata\\local\\programs\\python\\python311\\lib\\site-packages (from tensorflow) (18.1.1)\n",
      "Requirement already satisfied: opt-einsum>=2.3.2 in c:\\users\\chand\\appdata\\local\\programs\\python\\python311\\lib\\site-packages (from tensorflow) (3.4.0)\n",
      "Requirement already satisfied: packaging in c:\\users\\chand\\appdata\\roaming\\python\\python311\\site-packages (from tensorflow) (25.0)\n",
      "Requirement already satisfied: protobuf!=4.21.0,!=4.21.1,!=4.21.2,!=4.21.3,!=4.21.4,!=4.21.5,<6.0.0dev,>=3.20.3 in c:\\users\\chand\\appdata\\local\\programs\\python\\python311\\lib\\site-packages (from tensorflow) (5.29.4)\n",
      "Requirement already satisfied: requests<3,>=2.21.0 in c:\\users\\chand\\appdata\\local\\programs\\python\\python311\\lib\\site-packages (from tensorflow) (2.32.3)\n",
      "Requirement already satisfied: setuptools in c:\\users\\chand\\appdata\\local\\programs\\python\\python311\\lib\\site-packages (from tensorflow) (65.5.0)\n",
      "Requirement already satisfied: six>=1.12.0 in c:\\users\\chand\\appdata\\roaming\\python\\python311\\site-packages (from tensorflow) (1.17.0)\n",
      "Requirement already satisfied: termcolor>=1.1.0 in c:\\users\\chand\\appdata\\local\\programs\\python\\python311\\lib\\site-packages (from tensorflow) (3.1.0)\n",
      "Requirement already satisfied: typing-extensions>=3.6.6 in c:\\users\\chand\\appdata\\roaming\\python\\python311\\site-packages (from tensorflow) (4.13.2)\n",
      "Requirement already satisfied: wrapt>=1.11.0 in c:\\users\\chand\\appdata\\local\\programs\\python\\python311\\lib\\site-packages (from tensorflow) (1.17.2)\n",
      "Requirement already satisfied: grpcio<2.0,>=1.24.3 in c:\\users\\chand\\appdata\\local\\programs\\python\\python311\\lib\\site-packages (from tensorflow) (1.71.0)\n",
      "Requirement already satisfied: tensorboard~=2.19.0 in c:\\users\\chand\\appdata\\local\\programs\\python\\python311\\lib\\site-packages (from tensorflow) (2.19.0)\n",
      "Requirement already satisfied: keras>=3.5.0 in c:\\users\\chand\\appdata\\local\\programs\\python\\python311\\lib\\site-packages (from tensorflow) (3.10.0)\n",
      "Requirement already satisfied: numpy<2.2.0,>=1.26.0 in c:\\users\\chand\\appdata\\local\\programs\\python\\python311\\lib\\site-packages (from tensorflow) (2.1.3)\n",
      "Requirement already satisfied: h5py>=3.11.0 in c:\\users\\chand\\appdata\\local\\programs\\python\\python311\\lib\\site-packages (from tensorflow) (3.13.0)\n",
      "Requirement already satisfied: ml-dtypes<1.0.0,>=0.5.1 in c:\\users\\chand\\appdata\\local\\programs\\python\\python311\\lib\\site-packages (from tensorflow) (0.5.1)\n",
      "Requirement already satisfied: tensorflow-io-gcs-filesystem>=0.23.1 in c:\\users\\chand\\appdata\\local\\programs\\python\\python311\\lib\\site-packages (from tensorflow) (0.31.0)\n",
      "Requirement already satisfied: wheel<1.0,>=0.23.0 in c:\\users\\chand\\appdata\\local\\programs\\python\\python311\\lib\\site-packages (from astunparse>=1.6.0->tensorflow) (0.45.1)\n",
      "Requirement already satisfied: rich in c:\\users\\chand\\appdata\\local\\programs\\python\\python311\\lib\\site-packages (from keras>=3.5.0->tensorflow) (14.0.0)\n",
      "Requirement already satisfied: namex in c:\\users\\chand\\appdata\\local\\programs\\python\\python311\\lib\\site-packages (from keras>=3.5.0->tensorflow) (0.1.0)\n",
      "Requirement already satisfied: optree in c:\\users\\chand\\appdata\\local\\programs\\python\\python311\\lib\\site-packages (from keras>=3.5.0->tensorflow) (0.15.0)\n",
      "Requirement already satisfied: charset-normalizer<4,>=2 in c:\\users\\chand\\appdata\\local\\programs\\python\\python311\\lib\\site-packages (from requests<3,>=2.21.0->tensorflow) (3.4.2)\n",
      "Requirement already satisfied: idna<4,>=2.5 in c:\\users\\chand\\appdata\\local\\programs\\python\\python311\\lib\\site-packages (from requests<3,>=2.21.0->tensorflow) (3.10)\n",
      "Requirement already satisfied: urllib3<3,>=1.21.1 in c:\\users\\chand\\appdata\\local\\programs\\python\\python311\\lib\\site-packages (from requests<3,>=2.21.0->tensorflow) (2.4.0)\n",
      "Requirement already satisfied: certifi>=2017.4.17 in c:\\users\\chand\\appdata\\local\\programs\\python\\python311\\lib\\site-packages (from requests<3,>=2.21.0->tensorflow) (2025.4.26)\n",
      "Requirement already satisfied: markdown>=2.6.8 in c:\\users\\chand\\appdata\\local\\programs\\python\\python311\\lib\\site-packages (from tensorboard~=2.19.0->tensorflow) (3.8)\n",
      "Requirement already satisfied: tensorboard-data-server<0.8.0,>=0.7.0 in c:\\users\\chand\\appdata\\local\\programs\\python\\python311\\lib\\site-packages (from tensorboard~=2.19.0->tensorflow) (0.7.2)\n",
      "Requirement already satisfied: werkzeug>=1.0.1 in c:\\users\\chand\\appdata\\local\\programs\\python\\python311\\lib\\site-packages (from tensorboard~=2.19.0->tensorflow) (3.1.3)\n",
      "Requirement already satisfied: MarkupSafe>=2.1.1 in c:\\users\\chand\\appdata\\local\\programs\\python\\python311\\lib\\site-packages (from werkzeug>=1.0.1->tensorboard~=2.19.0->tensorflow) (3.0.2)\n",
      "Requirement already satisfied: markdown-it-py>=2.2.0 in c:\\users\\chand\\appdata\\local\\programs\\python\\python311\\lib\\site-packages (from rich->keras>=3.5.0->tensorflow) (3.0.0)\n",
      "Requirement already satisfied: pygments<3.0.0,>=2.13.0 in c:\\users\\chand\\appdata\\roaming\\python\\python311\\site-packages (from rich->keras>=3.5.0->tensorflow) (2.19.1)\n",
      "Requirement already satisfied: mdurl~=0.1 in c:\\users\\chand\\appdata\\local\\programs\\python\\python311\\lib\\site-packages (from markdown-it-py>=2.2.0->rich->keras>=3.5.0->tensorflow) (0.1.2)\n"
     ]
    },
    {
     "name": "stderr",
     "output_type": "stream",
     "text": [
      "\n",
      "[notice] A new release of pip is available: 23.2.1 -> 25.1.1\n",
      "[notice] To update, run: python.exe -m pip install --upgrade pip\n"
     ]
    }
   ],
   "source": [
    "!pip install tensorflow"
   ]
  },
  {
   "cell_type": "code",
   "execution_count": 48,
   "id": "0c4632b2",
   "metadata": {},
   "outputs": [],
   "source": [
    "import tensorflow as tf "
   ]
  },
  {
   "cell_type": "code",
   "execution_count": 49,
   "id": "72c071d5",
   "metadata": {},
   "outputs": [],
   "source": [
    "from tensorflow.keras.models import Sequential\n",
    "from tensorflow.keras.layers import Dense,Dropout"
   ]
  },
  {
   "cell_type": "code",
   "execution_count": 50,
   "id": "97824cc7",
   "metadata": {},
   "outputs": [],
   "source": [
    "import pandas as pd\n",
    "import numpy as np"
   ]
  },
  {
   "cell_type": "code",
   "execution_count": 51,
   "id": "1138fab8",
   "metadata": {},
   "outputs": [],
   "source": [
    "data = pd.read_csv(\"Credit.csv\")"
   ]
  },
  {
   "cell_type": "code",
   "execution_count": 52,
   "id": "d7b707f6",
   "metadata": {},
   "outputs": [
    {
     "data": {
      "text/html": [
       "<div>\n",
       "<style scoped>\n",
       "    .dataframe tbody tr th:only-of-type {\n",
       "        vertical-align: middle;\n",
       "    }\n",
       "\n",
       "    .dataframe tbody tr th {\n",
       "        vertical-align: top;\n",
       "    }\n",
       "\n",
       "    .dataframe thead th {\n",
       "        text-align: right;\n",
       "    }\n",
       "</style>\n",
       "<table border=\"1\" class=\"dataframe\">\n",
       "  <thead>\n",
       "    <tr style=\"text-align: right;\">\n",
       "      <th></th>\n",
       "      <th>age</th>\n",
       "      <th>job</th>\n",
       "      <th>marital</th>\n",
       "      <th>education</th>\n",
       "      <th>balance</th>\n",
       "      <th>housing</th>\n",
       "      <th>duration</th>\n",
       "      <th>campaign</th>\n",
       "      <th>approval</th>\n",
       "    </tr>\n",
       "  </thead>\n",
       "  <tbody>\n",
       "    <tr>\n",
       "      <th>0</th>\n",
       "      <td>30.0</td>\n",
       "      <td>unemployed</td>\n",
       "      <td>married</td>\n",
       "      <td>primary</td>\n",
       "      <td>1787</td>\n",
       "      <td>no</td>\n",
       "      <td>79.0</td>\n",
       "      <td>1</td>\n",
       "      <td>no</td>\n",
       "    </tr>\n",
       "    <tr>\n",
       "      <th>1</th>\n",
       "      <td>33.0</td>\n",
       "      <td>services</td>\n",
       "      <td>married</td>\n",
       "      <td>secondary</td>\n",
       "      <td>4789</td>\n",
       "      <td>yes</td>\n",
       "      <td>220.0</td>\n",
       "      <td>1</td>\n",
       "      <td>no</td>\n",
       "    </tr>\n",
       "    <tr>\n",
       "      <th>2</th>\n",
       "      <td>35.0</td>\n",
       "      <td>management</td>\n",
       "      <td>single</td>\n",
       "      <td>tertiary</td>\n",
       "      <td>1350</td>\n",
       "      <td>yes</td>\n",
       "      <td>185.0</td>\n",
       "      <td>1</td>\n",
       "      <td>no</td>\n",
       "    </tr>\n",
       "    <tr>\n",
       "      <th>3</th>\n",
       "      <td>30.0</td>\n",
       "      <td>management</td>\n",
       "      <td>married</td>\n",
       "      <td>tertiary</td>\n",
       "      <td>1476</td>\n",
       "      <td>yes</td>\n",
       "      <td>199.0</td>\n",
       "      <td>4</td>\n",
       "      <td>no</td>\n",
       "    </tr>\n",
       "    <tr>\n",
       "      <th>4</th>\n",
       "      <td>59.0</td>\n",
       "      <td>blue-collar</td>\n",
       "      <td>married</td>\n",
       "      <td>secondary</td>\n",
       "      <td>0</td>\n",
       "      <td>yes</td>\n",
       "      <td>226.0</td>\n",
       "      <td>1</td>\n",
       "      <td>no</td>\n",
       "    </tr>\n",
       "    <tr>\n",
       "      <th>...</th>\n",
       "      <td>...</td>\n",
       "      <td>...</td>\n",
       "      <td>...</td>\n",
       "      <td>...</td>\n",
       "      <td>...</td>\n",
       "      <td>...</td>\n",
       "      <td>...</td>\n",
       "      <td>...</td>\n",
       "      <td>...</td>\n",
       "    </tr>\n",
       "    <tr>\n",
       "      <th>4516</th>\n",
       "      <td>99.0</td>\n",
       "      <td>services</td>\n",
       "      <td>married</td>\n",
       "      <td>secondary</td>\n",
       "      <td>-333</td>\n",
       "      <td>yes</td>\n",
       "      <td>329.0</td>\n",
       "      <td>5</td>\n",
       "      <td>no</td>\n",
       "    </tr>\n",
       "    <tr>\n",
       "      <th>4517</th>\n",
       "      <td>57.0</td>\n",
       "      <td>self-employed</td>\n",
       "      <td>married</td>\n",
       "      <td>tertiary</td>\n",
       "      <td>-3313</td>\n",
       "      <td>yes</td>\n",
       "      <td>-153.0</td>\n",
       "      <td>1</td>\n",
       "      <td>no</td>\n",
       "    </tr>\n",
       "    <tr>\n",
       "      <th>4518</th>\n",
       "      <td>57.0</td>\n",
       "      <td>technician</td>\n",
       "      <td>married</td>\n",
       "      <td>secondary</td>\n",
       "      <td>295</td>\n",
       "      <td>no</td>\n",
       "      <td>151.0</td>\n",
       "      <td>11</td>\n",
       "      <td>no</td>\n",
       "    </tr>\n",
       "    <tr>\n",
       "      <th>4519</th>\n",
       "      <td>28.0</td>\n",
       "      <td>blue-collar</td>\n",
       "      <td>married</td>\n",
       "      <td>secondary</td>\n",
       "      <td>1137</td>\n",
       "      <td>no</td>\n",
       "      <td>129.0</td>\n",
       "      <td>4</td>\n",
       "      <td>no</td>\n",
       "    </tr>\n",
       "    <tr>\n",
       "      <th>4520</th>\n",
       "      <td>44.0</td>\n",
       "      <td>entrepreneur</td>\n",
       "      <td>single</td>\n",
       "      <td>tertiary</td>\n",
       "      <td>1136</td>\n",
       "      <td>yes</td>\n",
       "      <td>345.0</td>\n",
       "      <td>2</td>\n",
       "      <td>no</td>\n",
       "    </tr>\n",
       "  </tbody>\n",
       "</table>\n",
       "<p>4521 rows × 9 columns</p>\n",
       "</div>"
      ],
      "text/plain": [
       "       age            job  marital  education  balance housing  duration  \\\n",
       "0     30.0     unemployed  married    primary     1787      no      79.0   \n",
       "1     33.0       services  married  secondary     4789     yes     220.0   \n",
       "2     35.0     management   single   tertiary     1350     yes     185.0   \n",
       "3     30.0     management  married   tertiary     1476     yes     199.0   \n",
       "4     59.0    blue-collar  married  secondary        0     yes     226.0   \n",
       "...    ...            ...      ...        ...      ...     ...       ...   \n",
       "4516  99.0       services  married  secondary     -333     yes     329.0   \n",
       "4517  57.0  self-employed  married   tertiary    -3313     yes    -153.0   \n",
       "4518  57.0     technician  married  secondary      295      no     151.0   \n",
       "4519  28.0    blue-collar  married  secondary     1137      no     129.0   \n",
       "4520  44.0   entrepreneur   single   tertiary     1136     yes     345.0   \n",
       "\n",
       "      campaign approval  \n",
       "0            1       no  \n",
       "1            1       no  \n",
       "2            1       no  \n",
       "3            4       no  \n",
       "4            1       no  \n",
       "...        ...      ...  \n",
       "4516         5       no  \n",
       "4517         1       no  \n",
       "4518        11       no  \n",
       "4519         4       no  \n",
       "4520         2       no  \n",
       "\n",
       "[4521 rows x 9 columns]"
      ]
     },
     "execution_count": 52,
     "metadata": {},
     "output_type": "execute_result"
    }
   ],
   "source": [
    "data"
   ]
  },
  {
   "cell_type": "code",
   "execution_count": 53,
   "id": "00c00e4a",
   "metadata": {},
   "outputs": [
    {
     "data": {
      "text/plain": [
       "array(['unemployed', 'services', 'management', 'blue-collar',\n",
       "       'self-employed', 'technician', 'entrepreneur', 'admin.', 'student',\n",
       "       'housemaid', 'retired', 'unknown', nan], dtype=object)"
      ]
     },
     "execution_count": 53,
     "metadata": {},
     "output_type": "execute_result"
    }
   ],
   "source": [
    "data['job'].unique()  "
   ]
  },
  {
   "cell_type": "code",
   "execution_count": 54,
   "id": "05f9a9fe",
   "metadata": {},
   "outputs": [],
   "source": [
    "job = {'admin.':0,'blue-collar':1,'entrepreneur':2,'housemaid':3,'management':4,'retired':5,'self-employed':6,'services':7,'student':8,'technician':9,'unemployed':10,'unknown':11}\n",
    "data['job'] = data['job'].map(job)\n",
    "data['marital'] = data['marital'].map({'married':0,'single':1,'divorced':2})\n",
    "data['education'] = data['education'].map({'primary':0,'secondary':1,'tertiary':2})\n",
    "data['housing'] = data['housing'].map({'yes':0,'no':1})\n",
    "data['approval'] = data['approval'].map({'yes':0,'no':1})"
   ]
  },
  {
   "cell_type": "code",
   "execution_count": 55,
   "id": "f5c53f55",
   "metadata": {},
   "outputs": [],
   "source": [
    "data.drop_duplicates(inplace=True)"
   ]
  },
  {
   "cell_type": "code",
   "execution_count": 56,
   "id": "0d3bb1ed",
   "metadata": {},
   "outputs": [],
   "source": [
    "data.dropna(inplace=True)"
   ]
  },
  {
   "cell_type": "code",
   "execution_count": 57,
   "id": "c6de6429",
   "metadata": {},
   "outputs": [
    {
     "data": {
      "text/plain": [
       "age          0\n",
       "job          0\n",
       "marital      0\n",
       "education    0\n",
       "balance      0\n",
       "housing      0\n",
       "duration     0\n",
       "campaign     0\n",
       "approval     0\n",
       "dtype: int64"
      ]
     },
     "execution_count": 57,
     "metadata": {},
     "output_type": "execute_result"
    }
   ],
   "source": [
    "data.isnull().sum()"
   ]
  },
  {
   "cell_type": "code",
   "execution_count": 58,
   "id": "7e286f65",
   "metadata": {},
   "outputs": [],
   "source": [
    "x =data.drop('approval',axis=1)\n",
    "y = data['approval']"
   ]
  },
  {
   "cell_type": "code",
   "execution_count": 59,
   "id": "7378f89b",
   "metadata": {},
   "outputs": [],
   "source": [
    "from sklearn.model_selection import train_test_split\n",
    "x_train,x_test,y_train,y_test = train_test_split(x,y,test_size = 0.2)"
   ]
  },
  {
   "cell_type": "code",
   "execution_count": 60,
   "id": "41876242",
   "metadata": {},
   "outputs": [
    {
     "data": {
      "text/plain": [
       "((3452, 8), (863, 8), (3452,), (863,))"
      ]
     },
     "execution_count": 60,
     "metadata": {},
     "output_type": "execute_result"
    }
   ],
   "source": [
    "x_train.shape,x_test.shape,y_train.shape,y_test.shape"
   ]
  },
  {
   "cell_type": "code",
   "execution_count": 61,
   "id": "d4877aac",
   "metadata": {},
   "outputs": [],
   "source": [
    "from tensorflow.keras.models import Sequential\n",
    "from tensorflow.keras.layers import Dense,Dropout"
   ]
  },
  {
   "cell_type": "code",
   "execution_count": 62,
   "id": "0b91dc27",
   "metadata": {},
   "outputs": [],
   "source": [
    "input_dim=8"
   ]
  },
  {
   "cell_type": "code",
   "execution_count": 64,
   "id": "ec2e3bf0",
   "metadata": {},
   "outputs": [
    {
     "name": "stderr",
     "output_type": "stream",
     "text": [
      "c:\\Users\\chand\\AppData\\Local\\Programs\\Python\\Python311\\Lib\\site-packages\\keras\\src\\layers\\core\\dense.py:93: UserWarning: Do not pass an `input_shape`/`input_dim` argument to a layer. When using Sequential models, prefer using an `Input(shape)` object as the first layer in the model instead.\n",
      "  super().__init__(activity_regularizer=activity_regularizer, **kwargs)\n"
     ]
    }
   ],
   "source": [
    "model =Sequential()\n",
    "# input layer\n",
    "model.add(Dense(units=128,activation='relu',input_dim=input_dim))\n",
    "# Dropout layer \n",
    "model.add(Dropout(0.2))\n",
    "# Hidden layer\n",
    "\n",
    "model.add(Dense(units = 64,activation='relu'))\n",
    "model.add(Dense(units = 32,activation='relu'))\n",
    "model.add(Dense(units = 16,activation='relu'))\n",
    "model.add(Dense(units = 8,activation='relu'))\n",
    "# output layer\n",
    "\n",
    "\n",
    "model.add(Dense(units=1,activation='sigmoid'))\n",
    "\n",
    "\n",
    "model.compile(loss='binary_crossentropy',optimizer='adam',metrics=['accuracy','mae','mse'])"
   ]
  },
  {
   "cell_type": "code",
   "execution_count": 65,
   "id": "92f36c9e",
   "metadata": {},
   "outputs": [
    {
     "name": "stdout",
     "output_type": "stream",
     "text": [
      "Epoch 1/10\n",
      "\u001b[1m108/108\u001b[0m \u001b[32m━━━━━━━━━━━━━━━━━━━━\u001b[0m\u001b[37m\u001b[0m \u001b[1m3s\u001b[0m 3ms/step - accuracy: 0.7960 - loss: 5.5059 - mae: 0.2854 - mse: 0.2055\n",
      "Epoch 2/10\n",
      "\u001b[1m108/108\u001b[0m \u001b[32m━━━━━━━━━━━━━━━━━━━━\u001b[0m\u001b[37m\u001b[0m \u001b[1m0s\u001b[0m 4ms/step - accuracy: 0.8891 - loss: 0.6289 - mae: 0.3399 - mse: 0.1637\n",
      "Epoch 3/10\n",
      "\u001b[1m108/108\u001b[0m \u001b[32m━━━━━━━━━━━━━━━━━━━━\u001b[0m\u001b[37m\u001b[0m \u001b[1m0s\u001b[0m 3ms/step - accuracy: 0.8638 - loss: 0.6478 - mae: 0.3880 - mse: 0.1822\n",
      "Epoch 4/10\n",
      "\u001b[1m108/108\u001b[0m \u001b[32m━━━━━━━━━━━━━━━━━━━━\u001b[0m\u001b[37m\u001b[0m \u001b[1m0s\u001b[0m 3ms/step - accuracy: 0.8867 - loss: 0.4766 - mae: 0.3130 - mse: 0.1394\n",
      "Epoch 5/10\n",
      "\u001b[1m108/108\u001b[0m \u001b[32m━━━━━━━━━━━━━━━━━━━━\u001b[0m\u001b[37m\u001b[0m \u001b[1m0s\u001b[0m 4ms/step - accuracy: 0.8774 - loss: 0.4567 - mae: 0.2964 - mse: 0.1329\n",
      "Epoch 6/10\n",
      "\u001b[1m108/108\u001b[0m \u001b[32m━━━━━━━━━━━━━━━━━━━━\u001b[0m\u001b[37m\u001b[0m \u001b[1m0s\u001b[0m 3ms/step - accuracy: 0.8843 - loss: 0.4346 - mae: 0.2623 - mse: 0.1171\n",
      "Epoch 7/10\n",
      "\u001b[1m108/108\u001b[0m \u001b[32m━━━━━━━━━━━━━━━━━━━━\u001b[0m\u001b[37m\u001b[0m \u001b[1m0s\u001b[0m 2ms/step - accuracy: 0.8803 - loss: 0.4067 - mae: 0.2675 - mse: 0.1192\n",
      "Epoch 8/10\n",
      "\u001b[1m108/108\u001b[0m \u001b[32m━━━━━━━━━━━━━━━━━━━━\u001b[0m\u001b[37m\u001b[0m \u001b[1m0s\u001b[0m 3ms/step - accuracy: 0.8850 - loss: 0.3879 - mae: 0.2457 - mse: 0.1092\n",
      "Epoch 9/10\n",
      "\u001b[1m108/108\u001b[0m \u001b[32m━━━━━━━━━━━━━━━━━━━━\u001b[0m\u001b[37m\u001b[0m \u001b[1m0s\u001b[0m 3ms/step - accuracy: 0.8839 - loss: 0.3721 - mae: 0.2459 - mse: 0.1086\n",
      "Epoch 10/10\n",
      "\u001b[1m108/108\u001b[0m \u001b[32m━━━━━━━━━━━━━━━━━━━━\u001b[0m\u001b[37m\u001b[0m \u001b[1m0s\u001b[0m 3ms/step - accuracy: 0.8896 - loss: 0.3803 - mae: 0.2311 - mse: 0.1027\n"
     ]
    },
    {
     "data": {
      "text/plain": [
       "<keras.src.callbacks.history.History at 0x27cadd2ff90>"
      ]
     },
     "execution_count": 65,
     "metadata": {},
     "output_type": "execute_result"
    }
   ],
   "source": [
    "model.fit(x_train,y_train,epochs=10,batch_size=32)"
   ]
  },
  {
   "cell_type": "code",
   "execution_count": 66,
   "id": "dca070fd",
   "metadata": {},
   "outputs": [
    {
     "name": "stdout",
     "output_type": "stream",
     "text": [
      "\u001b[1m27/27\u001b[0m \u001b[32m━━━━━━━━━━━━━━━━━━━━\u001b[0m\u001b[37m\u001b[0m \u001b[1m1s\u001b[0m 15ms/step\n"
     ]
    }
   ],
   "source": [
    "pred = model.predict(x_test)"
   ]
  },
  {
   "cell_type": "code",
   "execution_count": 67,
   "id": "dd347716",
   "metadata": {},
   "outputs": [],
   "source": [
    "import numpy"
   ]
  },
  {
   "cell_type": "code",
   "execution_count": 68,
   "id": "888f26d3",
   "metadata": {},
   "outputs": [],
   "source": [
    "pred =numpy.ravel(pred)"
   ]
  },
  {
   "cell_type": "code",
   "execution_count": 69,
   "id": "d3876339",
   "metadata": {},
   "outputs": [
    {
     "data": {
      "text/plain": [
       "array([0.80860615, 0.83965725, 0.9017959 , 0.67318475, 0.67318475,\n",
       "       0.79527855, 0.7619499 , 0.8489054 , 0.8375008 , 0.8711695 ,\n",
       "       0.67318475, 0.776953  , 0.67318475, 0.7824079 , 0.98849416,\n",
       "       0.80309886, 0.89642346, 0.7850213 , 0.8583567 , 0.91716564,\n",
       "       0.7643968 , 0.98792356, 0.865718  , 0.90373915, 0.9666167 ,\n",
       "       0.9755712 , 0.9175763 , 0.99287146, 0.7635948 , 0.7535355 ,\n",
       "       0.8056066 , 0.9889071 , 0.77490485, 0.98999   , 0.8561392 ,\n",
       "       0.9927419 , 0.67318475, 0.99090666, 0.9633946 , 0.8942562 ,\n",
       "       0.73048353, 0.67318475, 0.7578789 , 0.978531  , 0.87216854,\n",
       "       0.81077385, 0.9697214 , 0.99154586, 0.82132363, 0.85895276,\n",
       "       0.99764276, 0.9933287 , 0.76083297, 0.9057885 , 0.69122386,\n",
       "       0.8289347 , 0.9415773 , 0.85570496, 0.7660166 , 0.67318475,\n",
       "       0.89061415, 0.8093451 , 0.67318475, 0.86024475, 0.9076064 ,\n",
       "       0.89791447, 0.91299444, 0.9782177 , 0.7755118 , 0.8463124 ,\n",
       "       0.99998504, 0.9468456 , 0.75218517, 0.71672565, 0.9488771 ,\n",
       "       0.89823407, 0.9748007 , 0.8262561 , 0.771703  , 0.8925191 ,\n",
       "       0.67318475, 0.7405449 , 0.79468584, 0.68814206, 0.93023974,\n",
       "       0.78821313, 0.9824526 , 0.99990094, 0.84154767, 0.9864466 ,\n",
       "       0.9852865 , 0.7231196 , 0.67318475, 0.7991971 , 0.99246603,\n",
       "       0.8331004 , 0.8951293 , 0.8853977 , 0.67318475, 0.9787575 ,\n",
       "       0.7569732 , 0.9845253 , 0.7936375 , 0.94863695, 0.89454675,\n",
       "       0.9813954 , 0.7945088 , 0.85208267, 0.96953285, 0.7418899 ,\n",
       "       0.67318475, 0.67318475, 0.67318475, 0.84836227, 0.67318475,\n",
       "       0.72048926, 0.9992516 , 0.89809877, 0.74852717, 0.84124744,\n",
       "       0.67318475, 0.9428791 , 0.9961827 , 0.67318475, 0.9701346 ,\n",
       "       0.67318475, 0.9009945 , 0.67318475, 0.92813736, 0.88440263,\n",
       "       0.7191182 , 0.86916304, 0.8672838 , 0.9634214 , 0.9931392 ,\n",
       "       0.847123  , 0.7260117 , 0.67318475, 0.9071855 , 0.9873725 ,\n",
       "       0.8606276 , 0.99994534, 0.96167135, 0.67318475, 0.80538034,\n",
       "       0.7816045 , 0.67318475, 0.97185314, 0.97643715, 0.98334837,\n",
       "       0.9591272 , 0.9950065 , 0.99251586, 0.98973554, 0.67318475,\n",
       "       0.7381401 , 0.86093473, 0.8294219 , 0.855845  , 0.9393447 ,\n",
       "       0.80078435, 0.8496136 , 0.9002788 , 0.9615089 , 0.9775442 ,\n",
       "       0.8436988 , 0.77789766, 0.8266748 , 0.9371041 , 0.67318475,\n",
       "       0.9800062 , 0.86209035, 0.9997402 , 0.8582236 , 0.8464516 ,\n",
       "       0.827289  , 0.8661399 , 0.9125352 , 0.9346232 , 0.9996004 ,\n",
       "       0.910509  , 0.97295797, 0.9941128 , 0.9939309 , 0.67318475,\n",
       "       0.989695  , 0.97726095, 0.95977145, 0.7363771 , 0.97626865,\n",
       "       0.7868663 , 0.99842423, 0.92741674, 0.8431692 , 0.9949107 ,\n",
       "       0.9907821 , 0.97059506, 0.9718901 , 0.99904335, 0.8604294 ,\n",
       "       0.67318475, 0.9619133 , 0.80970705, 0.67318475, 0.9635742 ,\n",
       "       0.9027124 , 0.83157516, 0.9101661 , 0.9976373 , 0.8570276 ,\n",
       "       0.81700695, 0.9866206 , 0.8602676 , 0.98256105, 0.904064  ,\n",
       "       0.9999964 , 0.96527594, 0.9945795 , 0.992524  , 0.7674684 ,\n",
       "       0.9610736 , 0.73282415, 0.93484175, 0.97708476, 0.70185393,\n",
       "       0.90113103, 0.9041419 , 0.81311405, 0.8206277 , 0.9900687 ,\n",
       "       0.94745463, 0.9500506 , 0.9842102 , 0.9952015 , 0.90434396,\n",
       "       0.73926336, 0.8766855 , 0.80265945, 0.7683507 , 0.91502386,\n",
       "       0.7921678 , 0.97927076, 0.8106026 , 0.7095282 , 0.9739018 ,\n",
       "       0.9879964 , 0.7234564 , 0.86690366, 0.74788535, 0.8128465 ,\n",
       "       0.67318475, 0.98433435, 0.9859029 , 0.8696644 , 0.85345006,\n",
       "       0.94266224, 0.67318475, 0.8687389 , 0.67318475, 0.7304388 ,\n",
       "       0.7588161 , 0.9340217 , 0.7142419 , 0.81395876, 0.86567795,\n",
       "       0.8383874 , 0.8242732 , 0.7562364 , 0.9582682 , 0.8878375 ,\n",
       "       0.9887733 , 0.9805534 , 0.8033951 , 0.926037  , 0.96647227,\n",
       "       0.67318475, 0.9005907 , 0.8246044 , 0.9094996 , 0.9916864 ,\n",
       "       0.7746906 , 0.67318475, 0.98811245, 0.94958115, 0.96661896,\n",
       "       0.9433258 , 0.9395716 , 0.9280448 , 0.74452937, 0.9655074 ,\n",
       "       0.9975342 , 0.7770146 , 0.8667264 , 0.98380494, 0.8626344 ,\n",
       "       0.81667584, 0.76816523, 0.7934401 , 0.8486362 , 0.9682171 ,\n",
       "       0.67318475, 0.77263176, 0.91335195, 0.859437  , 0.9025743 ,\n",
       "       0.9890693 , 0.7925079 , 0.9594217 , 0.7852863 , 0.67318475,\n",
       "       0.9943662 , 0.7635374 , 0.9844202 , 0.81209815, 0.78106534,\n",
       "       0.8386308 , 0.76586044, 0.99980956, 0.92357814, 0.9677761 ,\n",
       "       0.67318475, 0.67318475, 0.78780556, 0.85078794, 0.9868443 ,\n",
       "       0.78057206, 0.67318475, 0.807472  , 0.93264955, 0.854576  ,\n",
       "       0.76933366, 0.9970336 , 0.95761585, 0.93229246, 0.79201007,\n",
       "       0.9942297 , 0.72451735, 0.91386276, 0.8311532 , 0.99995935,\n",
       "       0.9849394 , 0.7490482 , 0.8040116 , 0.7551397 , 0.997008  ,\n",
       "       0.92385495, 0.93081903, 0.93462014, 0.9010468 , 0.94613284,\n",
       "       0.73589873, 0.8018203 , 0.76579726, 0.85180134, 0.95777714,\n",
       "       0.9996773 , 0.86108637, 0.73191667, 0.67318475, 0.99645984,\n",
       "       0.93536466, 0.8004823 , 0.8608475 , 0.67318475, 0.8148911 ,\n",
       "       0.8784325 , 0.7827245 , 0.80019116, 0.85967857, 0.93847823,\n",
       "       0.909601  , 0.67318475, 0.9441757 , 0.79630697, 0.9784163 ,\n",
       "       0.67318475, 0.99037546, 0.99729466, 0.8501957 , 0.8008865 ,\n",
       "       0.9339809 , 0.78386784, 0.9778611 , 0.79132116, 0.99085414,\n",
       "       0.68059444, 0.95768607, 0.99360895, 0.8876739 , 0.993641  ,\n",
       "       0.8225646 , 0.67318475, 0.7077957 , 0.7258656 , 0.9839778 ,\n",
       "       0.8318784 , 0.8322055 , 0.80502105, 0.9722207 , 0.96899676,\n",
       "       0.99985296, 0.9450705 , 0.8293226 , 0.8237543 , 0.9637341 ,\n",
       "       0.98390716, 0.9443556 , 0.7758001 , 0.8453826 , 0.9698287 ,\n",
       "       0.99716777, 0.92105305, 0.90726435, 0.67318475, 0.99256694,\n",
       "       0.8160475 , 0.9123692 , 0.92720973, 0.8334607 , 0.67318475,\n",
       "       0.83117396, 0.99749684, 0.92288476, 0.9799561 , 0.95014   ,\n",
       "       0.67318475, 0.99659216, 0.9551659 , 0.87516755, 0.8675701 ,\n",
       "       0.9246671 , 0.78031784, 0.87045485, 0.98944426, 0.852266  ,\n",
       "       0.72543156, 0.9999019 , 0.93833923, 0.99506927, 0.92078495,\n",
       "       0.9974522 , 0.68208265, 0.98357576, 0.95903504, 0.67318475,\n",
       "       0.6781895 , 0.9869529 , 0.7236851 , 0.67318475, 0.67318475,\n",
       "       0.83158505, 0.8798202 , 0.87941563, 0.9810927 , 0.8711768 ,\n",
       "       0.6990303 , 0.8306074 , 0.81132495, 0.8222711 , 0.80646473,\n",
       "       0.9557487 , 0.8940869 , 0.9161582 , 0.67318475, 0.98535246,\n",
       "       0.9552923 , 0.9908254 , 0.8430098 , 0.8109268 , 0.67318475,\n",
       "       0.99204856, 0.787848  , 0.74055123, 0.7630003 , 0.999932  ,\n",
       "       0.9243027 , 0.8189899 , 0.81258273, 0.9956761 , 0.6849165 ,\n",
       "       0.8411485 , 0.8132818 , 0.99923974, 0.8056784 , 0.7935529 ,\n",
       "       0.7859311 , 0.7881849 , 0.7999341 , 0.67318475, 0.80350626,\n",
       "       0.83551776, 0.96244967, 0.9818398 , 0.70979047, 0.89143777,\n",
       "       0.80046004, 0.9989514 , 0.98722166, 0.67318475, 1.        ,\n",
       "       0.8753846 , 0.91360307, 0.9028306 , 0.9937361 , 0.92943203,\n",
       "       0.6921687 , 0.99786186, 0.72670764, 0.83990264, 0.8787943 ,\n",
       "       0.98737687, 0.67318475, 0.9974734 , 0.91970354, 0.8295541 ,\n",
       "       0.8158867 , 0.9324827 , 0.9774176 , 0.994962  , 0.82728344,\n",
       "       0.8693127 , 0.9997337 , 0.9928539 , 0.67318475, 0.67318475,\n",
       "       0.7017288 , 0.73993474, 0.9659619 , 0.9590832 , 0.9871617 ,\n",
       "       0.96775514, 0.9927465 , 0.97372127, 0.7666733 , 0.95551705,\n",
       "       0.99725175, 0.99666905, 0.75499594, 0.98411655, 0.8054377 ,\n",
       "       0.9712682 , 0.8575689 , 0.8653004 , 0.930968  , 0.99279404,\n",
       "       0.9253426 , 0.77988243, 0.9983707 , 0.9069203 , 0.67318475,\n",
       "       0.8447033 , 0.93073213, 0.978069  , 0.9879616 , 0.92797726,\n",
       "       0.67318475, 0.67318475, 0.67318475, 0.82448506, 0.9715572 ,\n",
       "       0.8602905 , 0.86214286, 0.7589081 , 0.9349497 , 0.9105906 ,\n",
       "       0.67318475, 0.9666846 , 0.8869415 , 0.97873294, 0.9926682 ,\n",
       "       0.9462275 , 0.67318475, 0.7121469 , 0.88069546, 0.86247087,\n",
       "       0.9996955 , 0.7668917 , 0.74766386, 0.74568176, 0.9411272 ,\n",
       "       0.7964044 , 0.768884  , 0.8030399 , 0.901452  , 0.88477576,\n",
       "       0.95349306, 0.9999962 , 0.9582603 , 0.67318475, 0.67318475,\n",
       "       0.9218314 , 0.879551  , 0.8309736 , 0.91684926, 0.67318475,\n",
       "       0.7680888 , 0.9915848 , 0.78969574, 0.9816979 , 0.72503185,\n",
       "       0.67318475, 0.9935591 , 0.7747168 , 0.88026696, 0.67318475,\n",
       "       0.8575042 , 0.82171404, 0.9770791 , 0.67318475, 0.9713011 ,\n",
       "       0.8416039 , 0.8459034 , 0.67318475, 0.7799245 , 0.9334416 ,\n",
       "       0.9861511 , 0.88959235, 0.67318475, 0.98732936, 0.99693567,\n",
       "       0.99363816, 0.9801654 , 0.9443145 , 0.97154474, 0.7987587 ,\n",
       "       0.790193  , 0.99938166, 0.85429966, 0.85996175, 0.8298867 ,\n",
       "       0.7597975 , 0.86095136, 0.84277624, 0.90806735, 0.85284257,\n",
       "       0.9818649 , 0.90768886, 0.88146293, 0.9922086 , 0.730686  ,\n",
       "       0.67318475, 0.67318475, 0.992069  , 0.95944375, 0.9640759 ,\n",
       "       0.67318475, 0.90469146, 0.9662735 , 0.96014863, 0.99349695,\n",
       "       0.9630395 , 0.9902492 , 0.67318475, 0.9283332 , 0.9073126 ,\n",
       "       0.93791014, 0.8299453 , 0.9564895 , 0.99207175, 0.871445  ,\n",
       "       0.9702864 , 0.67318475, 0.8061162 , 0.78113145, 0.98756486,\n",
       "       0.95694983, 0.96252567, 0.97737116, 0.96011364, 0.9938702 ,\n",
       "       0.86504924, 0.9872703 , 0.7617198 , 0.7540469 , 0.9345241 ,\n",
       "       0.88452715, 0.8604436 , 0.76053035, 0.8122861 , 0.9279748 ,\n",
       "       0.9706225 , 0.72457063, 0.99222165, 0.78463864, 0.8276847 ,\n",
       "       0.67318475, 0.9298474 , 0.77583337, 0.97194046, 0.87593365,\n",
       "       0.81522894, 0.9316215 , 0.90007854, 0.8870119 , 0.99276084,\n",
       "       0.67318475, 0.98212993, 0.9679437 , 0.9912668 , 0.7235421 ,\n",
       "       0.684291  , 0.95867735, 0.8058758 , 0.67318475, 0.93726987,\n",
       "       0.7408571 , 0.90472925, 0.9079833 , 0.82550323, 0.67318475,\n",
       "       0.83633935, 0.9999832 , 0.99900484, 0.67318475, 0.9389212 ,\n",
       "       0.9653525 , 0.90775305, 0.9846741 , 0.80951196, 0.7942971 ,\n",
       "       0.9422138 , 0.833701  , 0.9219108 , 0.95403373, 0.92178386,\n",
       "       0.9734347 , 0.89482456, 0.7705122 , 0.8499497 , 0.67318475,\n",
       "       0.8166314 , 0.99806887, 0.9782487 , 0.99307567, 0.8936089 ,\n",
       "       0.7669411 , 0.74338984, 0.67318475, 0.82499087, 0.9908986 ,\n",
       "       0.9973011 , 0.973024  , 0.8853185 , 0.9402805 , 0.67318475,\n",
       "       0.9532961 , 0.7273744 , 0.8077424 , 0.84633446, 0.9430153 ,\n",
       "       0.67318475, 0.7526963 , 0.8460458 , 0.7723837 , 0.9966409 ,\n",
       "       0.79256   , 0.97759795, 0.9904678 , 0.92918146, 0.9636432 ,\n",
       "       0.7029881 , 0.77408963, 0.8637713 , 0.836159  , 0.9859854 ,\n",
       "       0.8839265 , 0.96580535, 0.91186714, 0.9914458 , 0.9596355 ,\n",
       "       0.7770588 , 0.9543933 , 0.9381629 , 0.9929946 , 0.8075903 ,\n",
       "       0.8639822 , 0.82242906, 0.8171264 , 0.7696737 , 0.97704744,\n",
       "       0.9982877 , 0.82751954, 0.8461069 , 0.67318475, 0.9625783 ,\n",
       "       0.8603606 , 0.67499757, 0.9993735 , 0.88403445, 0.9576617 ,\n",
       "       0.7983707 , 0.9912133 , 0.9725075 , 0.9775444 , 0.8640402 ,\n",
       "       0.7068179 , 0.8387611 , 0.9389764 , 0.8168154 , 0.981808  ,\n",
       "       0.75873554, 0.9076463 , 0.99997437, 0.99266243, 0.86727744,\n",
       "       0.9971536 , 0.76778495, 0.74095255, 0.85351384, 0.88876057,\n",
       "       0.7863601 , 0.9289191 , 0.8548856 , 0.7778411 , 0.90946126,\n",
       "       0.904039  , 0.97186655, 0.88622385, 0.91181445, 0.9990491 ,\n",
       "       0.91511244, 0.82096064, 0.94477683, 0.9288354 , 0.95756906,\n",
       "       0.953531  , 0.7949898 , 0.8681854 , 0.88886625, 0.7797028 ,\n",
       "       0.9119151 , 0.98665625, 0.94787395, 0.72367907, 0.90542984,\n",
       "       0.8542317 , 0.7636524 , 0.9999889 , 0.8236962 , 0.9652244 ,\n",
       "       0.9754203 , 0.79651105, 0.79494333, 0.8876606 , 0.9356566 ,\n",
       "       0.73100626, 0.99645233, 0.82874084, 0.77123296, 0.9484898 ,\n",
       "       0.8664533 , 0.9999376 , 0.7294299 , 0.9862752 , 0.99059635,\n",
       "       0.8155798 , 0.8039512 , 0.8287151 , 0.93467057, 0.7985048 ,\n",
       "       0.6936016 , 0.7760258 , 0.80590093], dtype=float32)"
      ]
     },
     "execution_count": 69,
     "metadata": {},
     "output_type": "execute_result"
    }
   ],
   "source": [
    "pred"
   ]
  },
  {
   "cell_type": "code",
   "execution_count": 70,
   "id": "505badeb",
   "metadata": {},
   "outputs": [
    {
     "data": {
      "text/plain": [
       "3689    1\n",
       "2174    1\n",
       "2295    1\n",
       "2321    0\n",
       "934     1\n",
       "       ..\n",
       "197     1\n",
       "2527    1\n",
       "2305    1\n",
       "3248    0\n",
       "593     1\n",
       "Name: approval, Length: 863, dtype: int64"
      ]
     },
     "execution_count": 70,
     "metadata": {},
     "output_type": "execute_result"
    }
   ],
   "source": [
    "y_test"
   ]
  },
  {
   "cell_type": "code",
   "execution_count": 71,
   "id": "797d260a",
   "metadata": {},
   "outputs": [],
   "source": [
    "output =pd.DataFrame({'actual':y_test,'prediction':(pred>=0.5).astype(int)})"
   ]
  },
  {
   "cell_type": "code",
   "execution_count": 72,
   "id": "0b761332",
   "metadata": {},
   "outputs": [
    {
     "data": {
      "text/plain": [
       "array([1])"
      ]
     },
     "execution_count": 72,
     "metadata": {},
     "output_type": "execute_result"
    }
   ],
   "source": [
    "output['prediction'].unique()"
   ]
  },
  {
   "cell_type": "code",
   "execution_count": 73,
   "id": "b981eace",
   "metadata": {},
   "outputs": [
    {
     "data": {
      "text/plain": [
       "array([1, 0])"
      ]
     },
     "execution_count": 73,
     "metadata": {},
     "output_type": "execute_result"
    }
   ],
   "source": [
    "output['actual'].unique()"
   ]
  },
  {
   "cell_type": "code",
   "execution_count": null,
   "id": "b6e8c3cc",
   "metadata": {},
   "outputs": [],
   "source": []
  }
 ],
 "metadata": {
  "kernelspec": {
   "display_name": "Python 3",
   "language": "python",
   "name": "python3"
  },
  "language_info": {
   "codemirror_mode": {
    "name": "ipython",
    "version": 3
   },
   "file_extension": ".py",
   "mimetype": "text/x-python",
   "name": "python",
   "nbconvert_exporter": "python",
   "pygments_lexer": "ipython3",
   "version": "3.11.5"
  }
 },
 "nbformat": 4,
 "nbformat_minor": 5
}
