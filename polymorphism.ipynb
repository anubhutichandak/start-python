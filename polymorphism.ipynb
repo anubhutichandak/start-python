{
 "cells": [
  {
   "cell_type": "markdown",
   "id": "1e8c183d",
   "metadata": {},
   "source": [
    "polymorphism"
   ]
  },
  {
   "cell_type": "code",
   "execution_count": 1,
   "id": "c5933eeb",
   "metadata": {},
   "outputs": [
    {
     "name": "stdout",
     "output_type": "stream",
     "text": [
      "[1, 2, 3, 4]\n"
     ]
    }
   ],
   "source": [
    "lst=[1,2,3,4]\n",
    "print(lst)"
   ]
  },
  {
   "cell_type": "code",
   "execution_count": 2,
   "id": "44898d4a",
   "metadata": {},
   "outputs": [
    {
     "name": "stdout",
     "output_type": "stream",
     "text": [
      "5\n",
      "9\n"
     ]
    }
   ],
   "source": [
    "def add(a,b,c=0):\n",
    "    return a+b+c\n",
    "print(add(2,3))\n",
    "print(add(2,3,4))"
   ]
  },
  {
   "cell_type": "code",
   "execution_count": 2,
   "id": "53a132c0",
   "metadata": {},
   "outputs": [
    {
     "name": "stdout",
     "output_type": "stream",
     "text": [
      "Result: 79.0\n"
     ]
    }
   ],
   "source": [
    "class Calculator:\n",
    "    def calculate(self, a, b, op):\n",
    "        if op == '+':\n",
    "            return a + b\n",
    "        elif op == '-':\n",
    "            return a - b\n",
    "        elif op == '*':\n",
    "            return a * b\n",
    "        elif op == '/':\n",
    "            if b == 0:\n",
    "                return 0 # if b = 0  then it return 0\n",
    "            return a / b\n",
    "        else:\n",
    "            return \"Invalid operator\"\n",
    "\n",
    "# Main code\n",
    "calc = Calculator()\n",
    "a = float(input(\"Enter first number: \"))\n",
    "b = float(input(\"Enter second number: \"))\n",
    "op = input(\"Enter operation (+, -, *, /): \")\n",
    "\n",
    "result = calc.calculate(a, b, op)\n",
    "print(\"Result:\", result)\n",
    "\n",
    "\n",
    "\n",
    "\n"
   ]
  }
 ],
 "metadata": {
  "kernelspec": {
   "display_name": "Python 3",
   "language": "python",
   "name": "python3"
  },
  "language_info": {
   "codemirror_mode": {
    "name": "ipython",
    "version": 3
   },
   "file_extension": ".py",
   "mimetype": "text/x-python",
   "name": "python",
   "nbconvert_exporter": "python",
   "pygments_lexer": "ipython3",
   "version": "3.12.6"
  }
 },
 "nbformat": 4,
 "nbformat_minor": 5
}
