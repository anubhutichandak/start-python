{
 "cells": [
  {
   "cell_type": "markdown",
   "id": "3ccc9c9c",
   "metadata": {},
   "source": [
    "Exception Handling"
   ]
  },
  {
   "cell_type": "code",
   "execution_count": 1,
   "id": "4cb8d1e2",
   "metadata": {},
   "outputs": [],
   "source": [
    "try:\n",
    "    pass  # main code\n",
    "except:\n",
    "    pass # exception code and handling\n",
    "else:\n",
    "    pass # executed when there is no exception \n",
    "finally: \n",
    "    pass  ### always executed"
   ]
  },
  {
   "cell_type": "code",
   "execution_count": 2,
   "id": "ef19336b",
   "metadata": {},
   "outputs": [
    {
     "name": "stdout",
     "output_type": "stream",
     "text": [
      "2.0\n"
     ]
    }
   ],
   "source": [
    "try:\n",
    "    a = 10 \n",
    "    b = 5\n",
    "    print(a/b)\n",
    "except:\n",
    "    print(\"exception\")"
   ]
  },
  {
   "cell_type": "code",
   "execution_count": 3,
   "id": "fe3e3fe7",
   "metadata": {},
   "outputs": [
    {
     "name": "stdout",
     "output_type": "stream",
     "text": [
      "2.0\n"
     ]
    }
   ],
   "source": [
    "try:\n",
    "    a = 10 \n",
    "    b = 5\n",
    "    print(a/b)\n",
    "except:\n",
    "    print(\"exception\")"
   ]
  },
  {
   "cell_type": "code",
   "execution_count": 10,
   "id": "d6d35bd9",
   "metadata": {},
   "outputs": [
    {
     "name": "stdout",
     "output_type": "stream",
     "text": [
      "division by zero\n",
      "aapne koi string dali hai \n"
     ]
    }
   ],
   "source": [
    "try: \n",
    "    num1 =int(input(\"enter a number\"))\n",
    "    num2 =int(input(\"enter a second number\"))\n",
    "    print(num1/num2)\n",
    "except Exception as e:\n",
    "    print(e)\n",
    "    print(\"aapne koi string dali hai \")"
   ]
  },
  {
   "cell_type": "code",
   "execution_count": 9,
   "id": "010bd4a6",
   "metadata": {},
   "outputs": [
    {
     "name": "stdout",
     "output_type": "stream",
     "text": [
      "division by zero\n",
      "aapne koi string dali hai \n",
      "aap tino chalo ya na chalo me to chalunga \n"
     ]
    }
   ],
   "source": [
    "try: \n",
    "    num1 =int(input(\"enter a number\"))\n",
    "    num2 =int(input(\"enter a second number\"))\n",
    "    print(num1/num2)\n",
    "except Exception as e:\n",
    "    print(e)\n",
    "    print(\"aapne koi string dali hai \")\n",
    "else:\n",
    "    print(\"hello bhai me jb hi chalunga jb mera try block chalega \")\n",
    "finally:\n",
    "    print(\"aap tino chalo ya na chalo me to chalunga \")"
   ]
  },
  {
   "cell_type": "code",
   "execution_count": 6,
   "id": "02ddc10c",
   "metadata": {},
   "outputs": [
    {
     "name": "stdout",
     "output_type": "stream",
     "text": [
      "not valid\n",
      "aap tino chalo ya na chalo me to chalunga \n"
     ]
    }
   ],
   "source": [
    "# RunatimeError\n",
    "try:\n",
    "    x = -6\n",
    "\n",
    "    if x<0:\n",
    "        raise \n",
    "\n",
    "except:\n",
    "    print(\"not valid\")\n",
    "else:\n",
    "    print(\"hello bhai me jb hi chalunga jb mera try block chalega \")\n",
    "finally:\n",
    "    print(\"aap tino chalo ya na chalo me to chalunga \")"
   ]
  },
  {
   "cell_type": "code",
   "execution_count": 7,
   "id": "ae91c32e",
   "metadata": {},
   "outputs": [
    {
     "name": "stdout",
     "output_type": "stream",
     "text": [
      "not valid\n"
     ]
    }
   ],
   "source": [
    "# valueerror \n",
    "try:\n",
    "    x = -6\n",
    "    if x<0:\n",
    "        raise ValueError(\"not valid\") \n",
    "except ValueError as e:\n",
    "    print(e)"
   ]
  },
  {
   "cell_type": "code",
   "execution_count": 8,
   "id": "62e9e423",
   "metadata": {},
   "outputs": [
    {
     "name": "stdout",
     "output_type": "stream",
     "text": [
      "not valid\n"
     ]
    }
   ],
   "source": [
    "# valueerror \n",
    "try:\n",
    "    x = -6\n",
    "    if x<0:\n",
    "        raise ValueError(\"not valid\") \n",
    "except ValueError as e:\n",
    "    print(e)"
   ]
  },
  {
   "cell_type": "code",
   "execution_count": null,
   "id": "3561cc56",
   "metadata": {},
   "outputs": [],
   "source": []
  }
 ],
 "metadata": {
  "kernelspec": {
   "display_name": "Python 3",
   "language": "python",
   "name": "python3"
  },
  "language_info": {
   "codemirror_mode": {
    "name": "ipython",
    "version": 3
   },
   "file_extension": ".py",
   "mimetype": "text/x-python",
   "name": "python",
   "nbconvert_exporter": "python",
   "pygments_lexer": "ipython3",
   "version": "3.12.6"
  }
 },
 "nbformat": 4,
 "nbformat_minor": 5
}
