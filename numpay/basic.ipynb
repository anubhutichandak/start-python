{
 "cells": [
  {
   "cell_type": "code",
   "execution_count": 1,
   "id": "8e93aa37",
   "metadata": {},
   "outputs": [
    {
     "name": "stdout",
     "output_type": "stream",
     "text": [
      "Note: you may need to restart the kernel to use updated packages.\n"
     ]
    },
    {
     "name": "stderr",
     "output_type": "stream",
     "text": [
      "c:\\Users\\chand\\AppData\\Local\\Programs\\Python\\Python312\\python.exe: No module named pip\n"
     ]
    }
   ],
   "source": [
    "pip install numpy"
   ]
  },
  {
   "cell_type": "code",
   "execution_count": 1,
   "id": "76096a55",
   "metadata": {},
   "outputs": [
    {
     "name": "stdout",
     "output_type": "stream",
     "text": [
      "successfully installed\n"
     ]
    }
   ],
   "source": [
    "import numpy as np\n",
    "print(\"successfully installed\")"
   ]
  },
  {
   "cell_type": "code",
   "execution_count": 2,
   "id": "5ee33c9b",
   "metadata": {},
   "outputs": [
    {
     "name": "stdout",
     "output_type": "stream",
     "text": [
      "numpy version:  2.1.3\n"
     ]
    }
   ],
   "source": [
    "print(\"numpy version: \", np.__version__)"
   ]
  },
  {
   "cell_type": "code",
   "execution_count": null,
   "id": "96355ea9",
   "metadata": {},
   "outputs": [],
   "source": [
    "# Array and list  \n",
    "\n",
    "# Array similar data store krta hai hain\n",
    "# array >>>>>>>[1,2,3,4,5,6,7,8,9] \n",
    "\n",
    "# list >>>>>>[1,2,3,4,5,6,7,8,9, \"ritik\", 2.5, True, [1,2,3]]"
   ]
  },
  {
   "cell_type": "markdown",
   "id": "d0763614",
   "metadata": {},
   "source": [
    "list convert into array"
   ]
  },
  {
   "cell_type": "code",
   "execution_count": 3,
   "id": "528f4519",
   "metadata": {},
   "outputs": [
    {
     "name": "stdout",
     "output_type": "stream",
     "text": [
      "type of list:- <class 'list'>\n",
      "[1 2 3 4 5]\n",
      "type of array:- <class 'numpy.ndarray'>\n"
     ]
    }
   ],
   "source": [
    "lst = [1,2,3,4,5]\n",
    "print(\"type of list:-\",type(lst))\n",
    "arr =np.array(lst)\n",
    "print(arr)\n",
    "print(\"type of array:-\",type(arr))"
   ]
  },
  {
   "cell_type": "code",
   "execution_count": 4,
   "id": "d8dc4b9a",
   "metadata": {},
   "outputs": [],
   "source": [
    "arrr =np.array([1,2,3,4,5])"
   ]
  },
  {
   "cell_type": "code",
   "execution_count": 5,
   "id": "70456d71",
   "metadata": {},
   "outputs": [
    {
     "name": "stdout",
     "output_type": "stream",
     "text": [
      "[1 2 3 4 5]\n",
      "type of array:- <class 'numpy.ndarray'>\n"
     ]
    }
   ],
   "source": [
    "print(arrr)\n",
    "print(\"type of array:-\",type(arrr))"
   ]
  },
  {
   "cell_type": "code",
   "execution_count": null,
   "id": "fe717929",
   "metadata": {},
   "outputs": [],
   "source": [
    "st = list(range(1, 20)) # list function is used to create list and range function is used to create range"
   ]
  },
  {
   "cell_type": "code",
   "execution_count": 6,
   "id": "49c7152d",
   "metadata": {},
   "outputs": [
    {
     "data": {
      "text/plain": [
       "array([1, 2, 3, 4, 5])"
      ]
     },
     "execution_count": 6,
     "metadata": {},
     "output_type": "execute_result"
    }
   ],
   "source": [
    "type(lst)\n",
    "arr =np.array(lst)\n",
    "arr "
   ]
  },
  {
   "cell_type": "code",
   "execution_count": 7,
   "id": "16fb53d3",
   "metadata": {},
   "outputs": [
    {
     "data": {
      "text/plain": [
       "numpy.ndarray"
      ]
     },
     "execution_count": 7,
     "metadata": {},
     "output_type": "execute_result"
    }
   ],
   "source": [
    "arr =np.arange(1,20) #arange function is used to create array \n",
    "type(arr)"
   ]
  },
  {
   "cell_type": "code",
   "execution_count": 8,
   "id": "3fa2e41a",
   "metadata": {},
   "outputs": [
    {
     "data": {
      "text/plain": [
       "array([ 1,  2,  3,  4,  5,  6,  7,  8,  9, 10, 11, 12, 13, 14, 15, 16, 17,\n",
       "       18, 19])"
      ]
     },
     "execution_count": 8,
     "metadata": {},
     "output_type": "execute_result"
    }
   ],
   "source": [
    "arr"
   ]
  },
  {
   "cell_type": "code",
   "execution_count": 9,
   "id": "9dfa8f66",
   "metadata": {},
   "outputs": [
    {
     "data": {
      "text/plain": [
       "array([0., 0., 0., 0., 0.])"
      ]
     },
     "execution_count": 9,
     "metadata": {},
     "output_type": "execute_result"
    }
   ],
   "source": [
    "arr =np.zeros(5)\n",
    "arr"
   ]
  },
  {
   "cell_type": "code",
   "execution_count": 10,
   "id": "f7caf5b2",
   "metadata": {},
   "outputs": [
    {
     "data": {
      "text/plain": [
       "array([[0., 0., 0., 0., 0., 0., 0., 0., 0., 0.],\n",
       "       [0., 0., 0., 0., 0., 0., 0., 0., 0., 0.],\n",
       "       [0., 0., 0., 0., 0., 0., 0., 0., 0., 0.],\n",
       "       [0., 0., 0., 0., 0., 0., 0., 0., 0., 0.],\n",
       "       [0., 0., 0., 0., 0., 0., 0., 0., 0., 0.]])"
      ]
     },
     "execution_count": 10,
     "metadata": {},
     "output_type": "execute_result"
    }
   ],
   "source": [
    "arr =np.zeros((5,10))  # 5 rows and 10 columns and zero is used to create array\n",
    "arr"
   ]
  },
  {
   "cell_type": "code",
   "execution_count": 11,
   "id": "7d82f897",
   "metadata": {},
   "outputs": [
    {
     "data": {
      "text/plain": [
       "array([[1., 1., 1., 1., 1., 1., 1., 1., 1., 1.],\n",
       "       [1., 1., 1., 1., 1., 1., 1., 1., 1., 1.],\n",
       "       [1., 1., 1., 1., 1., 1., 1., 1., 1., 1.],\n",
       "       [1., 1., 1., 1., 1., 1., 1., 1., 1., 1.],\n",
       "       [1., 1., 1., 1., 1., 1., 1., 1., 1., 1.]])"
      ]
     },
     "execution_count": 11,
     "metadata": {},
     "output_type": "execute_result"
    }
   ],
   "source": [
    "arr=np.ones((5,10)) # one is used to create array\n",
    "arr"
   ]
  },
  {
   "cell_type": "code",
   "execution_count": 12,
   "id": "eb641715",
   "metadata": {},
   "outputs": [
    {
     "data": {
      "text/plain": [
       "array([ 1.  ,  3.25,  5.5 ,  7.75, 10.  ])"
      ]
     },
     "execution_count": 12,
     "metadata": {},
     "output_type": "execute_result"
    }
   ],
   "source": [
    "np.linspace(1,10,5) # linspace function is used to create array"
   ]
  },
  {
   "cell_type": "markdown",
   "id": "10d1b4d0",
   "metadata": {},
   "source": [
    "1D array convert into 2D"
   ]
  },
  {
   "cell_type": "code",
   "execution_count": 13,
   "id": "2df2106f",
   "metadata": {},
   "outputs": [],
   "source": [
    "arr=np.arange(0,30) # arange function is used to create array"
   ]
  },
  {
   "cell_type": "code",
   "execution_count": 15,
   "id": "8a27ca20",
   "metadata": {},
   "outputs": [
    {
     "data": {
      "text/plain": [
       "array([[ 0,  1,  2,  3,  4,  5],\n",
       "       [ 6,  7,  8,  9, 10, 11],\n",
       "       [12, 13, 14, 15, 16, 17],\n",
       "       [18, 19, 20, 21, 22, 23],\n",
       "       [24, 25, 26, 27, 28, 29]])"
      ]
     },
     "execution_count": 15,
     "metadata": {},
     "output_type": "execute_result"
    }
   ],
   "source": [
    "arr.reshape(5,6) # reshape function "
   ]
  },
  {
   "cell_type": "code",
   "execution_count": 16,
   "id": "7143d320",
   "metadata": {},
   "outputs": [
    {
     "data": {
      "text/plain": [
       "array([[ 0,  1,  2],\n",
       "       [ 3,  4,  5],\n",
       "       [ 6,  7,  8],\n",
       "       [ 9, 10, 11],\n",
       "       [12, 13, 14],\n",
       "       [15, 16, 17],\n",
       "       [18, 19, 20],\n",
       "       [21, 22, 23],\n",
       "       [24, 25, 26],\n",
       "       [27, 28, 29]])"
      ]
     },
     "execution_count": 16,
     "metadata": {},
     "output_type": "execute_result"
    }
   ],
   "source": [
    "arr.reshape(10,3)"
   ]
  },
  {
   "cell_type": "code",
   "execution_count": 17,
   "id": "d5240e3b",
   "metadata": {},
   "outputs": [
    {
     "data": {
      "text/plain": [
       "array([2, 3, 2, 1, 2, 3, 4, 2, 2], dtype=int32)"
      ]
     },
     "execution_count": 17,
     "metadata": {},
     "output_type": "execute_result"
    }
   ],
   "source": [
    "arr=np.random.randint(1,5,9) # random function is used to create array\n",
    "arr"
   ]
  },
  {
   "cell_type": "code",
   "execution_count": 18,
   "id": "c80a8889",
   "metadata": {},
   "outputs": [
    {
     "data": {
      "text/plain": [
       "array([[4, 3],\n",
       "       [2, 4],\n",
       "       [2, 3],\n",
       "       [2, 3],\n",
       "       [3, 2]], dtype=int32)"
      ]
     },
     "execution_count": 18,
     "metadata": {},
     "output_type": "execute_result"
    }
   ],
   "source": [
    "arr=np.random.randint(1,5,(5,2)) \n",
    "arr"
   ]
  },
  {
   "cell_type": "code",
   "execution_count": 19,
   "id": "7217995b",
   "metadata": {},
   "outputs": [
    {
     "data": {
      "text/plain": [
       "array([[0.09532877, 0.68434029, 0.05638312, 0.17317712, 0.83464899,\n",
       "        0.99922529, 0.39982105, 0.68350008, 0.29775108, 0.06896253],\n",
       "       [0.88716358, 0.64378737, 0.58714859, 0.84349884, 0.07720408,\n",
       "        0.2140392 , 0.6689203 , 0.15086337, 0.15024878, 0.12792234],\n",
       "       [0.67056913, 0.84681903, 0.78134026, 0.75296115, 0.44190467,\n",
       "        0.51208866, 0.82416115, 0.12730449, 0.22112811, 0.75733767],\n",
       "       [0.27410685, 0.8372785 , 0.79037381, 0.02308865, 0.98411527,\n",
       "        0.99727671, 0.70810886, 0.10147803, 0.01472241, 0.58663454],\n",
       "       [0.44188776, 0.34077426, 0.31176118, 0.89061639, 0.25487737,\n",
       "        0.44456452, 0.95359298, 0.3166461 , 0.07744606, 0.95808147]])"
      ]
     },
     "execution_count": 19,
     "metadata": {},
     "output_type": "execute_result"
    }
   ],
   "source": [
    "arr=np.random.random((5,10)) # seed function is used to create array\n",
    "arr"
   ]
  },
  {
   "cell_type": "code",
   "execution_count": 20,
   "id": "2ab286fa",
   "metadata": {},
   "outputs": [
    {
     "name": "stdout",
     "output_type": "stream",
     "text": [
      "array shape :- (5, 10)\n",
      "array size:- 50\n",
      "array data type:- float64\n",
      "array dimension:- 2\n"
     ]
    }
   ],
   "source": [
    "print(\"array shape :-\",arr.shape)\n",
    "print(\"array size:-\",arr.size)\n",
    "print(\"array data type:-\",arr.dtype)\n",
    "print(\"array dimension:-\",arr.ndim)"
   ]
  },
  {
   "cell_type": "code",
   "execution_count": 21,
   "id": "92ee7e9c",
   "metadata": {},
   "outputs": [
    {
     "data": {
      "text/plain": [
       "array([0.09532877, 0.68434029, 0.05638312, 0.17317712, 0.83464899,\n",
       "       0.99922529, 0.39982105, 0.68350008, 0.29775108, 0.06896253,\n",
       "       0.88716358, 0.64378737, 0.58714859, 0.84349884, 0.07720408,\n",
       "       0.2140392 , 0.6689203 , 0.15086337, 0.15024878, 0.12792234,\n",
       "       0.67056913, 0.84681903, 0.78134026, 0.75296115, 0.44190467,\n",
       "       0.51208866, 0.82416115, 0.12730449, 0.22112811, 0.75733767,\n",
       "       0.27410685, 0.8372785 , 0.79037381, 0.02308865, 0.98411527,\n",
       "       0.99727671, 0.70810886, 0.10147803, 0.01472241, 0.58663454,\n",
       "       0.44188776, 0.34077426, 0.31176118, 0.89061639, 0.25487737,\n",
       "       0.44456452, 0.95359298, 0.3166461 , 0.07744606, 0.95808147])"
      ]
     },
     "execution_count": 21,
     "metadata": {},
     "output_type": "execute_result"
    }
   ],
   "source": [
    "arr.flatten() #  2d array to 1d array"
   ]
  },
  {
   "cell_type": "code",
   "execution_count": 22,
   "id": "e5cf7f5f",
   "metadata": {},
   "outputs": [
    {
     "data": {
      "text/plain": [
       "array([0.09532877, 0.68434029, 0.05638312, 0.17317712, 0.83464899,\n",
       "       0.99922529, 0.39982105, 0.68350008, 0.29775108, 0.06896253,\n",
       "       0.88716358, 0.64378737, 0.58714859, 0.84349884, 0.07720408,\n",
       "       0.2140392 , 0.6689203 , 0.15086337, 0.15024878, 0.12792234,\n",
       "       0.67056913, 0.84681903, 0.78134026, 0.75296115, 0.44190467,\n",
       "       0.51208866, 0.82416115, 0.12730449, 0.22112811, 0.75733767,\n",
       "       0.27410685, 0.8372785 , 0.79037381, 0.02308865, 0.98411527,\n",
       "       0.99727671, 0.70810886, 0.10147803, 0.01472241, 0.58663454,\n",
       "       0.44188776, 0.34077426, 0.31176118, 0.89061639, 0.25487737,\n",
       "       0.44456452, 0.95359298, 0.3166461 , 0.07744606, 0.95808147])"
      ]
     },
     "execution_count": 22,
     "metadata": {},
     "output_type": "execute_result"
    }
   ],
   "source": [
    "arr.ravel() "
   ]
  },
  {
   "cell_type": "code",
   "execution_count": 23,
   "id": "dcfb4363",
   "metadata": {},
   "outputs": [
    {
     "data": {
      "text/plain": [
       "(5, 10)"
      ]
     },
     "execution_count": 23,
     "metadata": {},
     "output_type": "execute_result"
    }
   ],
   "source": [
    "arr.shape"
   ]
  },
  {
   "cell_type": "code",
   "execution_count": 24,
   "id": "654d29df",
   "metadata": {},
   "outputs": [
    {
     "data": {
      "text/plain": [
       "(10, 5)"
      ]
     },
     "execution_count": 24,
     "metadata": {},
     "output_type": "execute_result"
    }
   ],
   "source": [
    "arr.T.shape"
   ]
  },
  {
   "cell_type": "code",
   "execution_count": 25,
   "id": "d9c34649",
   "metadata": {},
   "outputs": [
    {
     "data": {
      "text/plain": [
       "np.int64(0)"
      ]
     },
     "execution_count": 25,
     "metadata": {},
     "output_type": "execute_result"
    }
   ],
   "source": [
    "# 1D \n",
    "arr =np.arange(30)\n",
    "arr[0]"
   ]
  },
  {
   "cell_type": "code",
   "execution_count": 26,
   "id": "83d4cf68",
   "metadata": {},
   "outputs": [
    {
     "data": {
      "text/plain": [
       "array([0, 1, 2, 3, 4, 5, 6, 7, 8, 9])"
      ]
     },
     "execution_count": 26,
     "metadata": {},
     "output_type": "execute_result"
    }
   ],
   "source": [
    "arr =np.arange(30)\n",
    "arr[0:10]"
   ]
  },
  {
   "cell_type": "code",
   "execution_count": 28,
   "id": "4d6ee567",
   "metadata": {},
   "outputs": [
    {
     "name": "stdout",
     "output_type": "stream",
     "text": [
      "[[ 0  1  2  3  4]\n",
      " [ 5  6  7  8  9]\n",
      " [10 11 12 13 14]\n",
      " [15 16 17 18 19]\n",
      " [20 21 22 23 24]\n",
      " [25 26 27 28 29]\n",
      " [30 31 32 33 34]\n",
      " [35 36 37 38 39]\n",
      " [40 41 42 43 44]\n",
      " [45 46 47 48 49]\n",
      " [50 51 52 53 54]\n",
      " [55 56 57 58 59]]\n"
     ]
    },
    {
     "data": {
      "text/plain": [
       "array([5, 6, 7, 8, 9])"
      ]
     },
     "execution_count": 28,
     "metadata": {},
     "output_type": "execute_result"
    }
   ],
   "source": [
    "# 2 D \n",
    "arr =np.arange(60).reshape(12,5)\n",
    "print(arr)\n",
    "arr[1]"
   ]
  },
  {
   "cell_type": "code",
   "execution_count": 29,
   "id": "924043b6",
   "metadata": {},
   "outputs": [
    {
     "name": "stdout",
     "output_type": "stream",
     "text": [
      "[[ 0  1  2  3  4]\n",
      " [ 5  6  7  8  9]\n",
      " [10 11 12 13 14]\n",
      " [15 16 17 18 19]\n",
      " [20 21 22 23 24]\n",
      " [25 26 27 28 29]\n",
      " [30 31 32 33 34]\n",
      " [35 36 37 38 39]\n",
      " [40 41 42 43 44]\n",
      " [45 46 47 48 49]\n",
      " [50 51 52 53 54]\n",
      " [55 56 57 58 59]]\n"
     ]
    },
    {
     "data": {
      "text/plain": [
       "np.int64(6)"
      ]
     },
     "execution_count": 29,
     "metadata": {},
     "output_type": "execute_result"
    }
   ],
   "source": [
    "arr =np.arange(60).reshape(12,5)\n",
    "print(arr)\n",
    "arr[1,1]"
   ]
  },
  {
   "cell_type": "code",
   "execution_count": 30,
   "id": "f5d908ac",
   "metadata": {},
   "outputs": [
    {
     "data": {
      "text/plain": [
       "array([8, 9])"
      ]
     },
     "execution_count": 30,
     "metadata": {},
     "output_type": "execute_result"
    }
   ],
   "source": [
    "arr[1,3:5]"
   ]
  },
  {
   "cell_type": "code",
   "execution_count": 31,
   "id": "fb5cbdf3",
   "metadata": {},
   "outputs": [
    {
     "data": {
      "text/plain": [
       "array([[ 1],\n",
       "       [ 6],\n",
       "       [11],\n",
       "       [16],\n",
       "       [21]])"
      ]
     },
     "execution_count": 31,
     "metadata": {},
     "output_type": "execute_result"
    }
   ],
   "source": [
    "arr[0:5,1:2]   # row (o:5 means 0 to 4), column"
   ]
  },
  {
   "cell_type": "code",
   "execution_count": 32,
   "id": "d5ac954a",
   "metadata": {},
   "outputs": [
    {
     "data": {
      "text/plain": [
       "array([[  0,   1,   2,   3,   4],\n",
       "       [  5,   6,   7,   8,   9],\n",
       "       [ 10,  11,  12,  13,  14],\n",
       "       [ 15,  16,  17,  18,  19],\n",
       "       [ 20,  21,  22,  23,  24],\n",
       "       [ 25,  26,  27,  28,  29],\n",
       "       [ 30,  31,  32,  33,  34],\n",
       "       [ 35,  36,  37,  38, 100],\n",
       "       [ 40,  41,  42,  43,  44],\n",
       "       [ 45,  46,  47,  48,  49],\n",
       "       [ 50,  51,  52,  53,  54],\n",
       "       [ 55,  56,  57,  58,  59]])"
      ]
     },
     "execution_count": 32,
     "metadata": {},
     "output_type": "execute_result"
    }
   ],
   "source": [
    "arr[7:8,4][0]=100\n",
    "arr"
   ]
  },
  {
   "cell_type": "code",
   "execution_count": 33,
   "id": "0a976566",
   "metadata": {},
   "outputs": [
    {
     "data": {
      "text/plain": [
       "np.int64(59)"
      ]
     },
     "execution_count": 33,
     "metadata": {},
     "output_type": "execute_result"
    }
   ],
   "source": [
    "arr[11,4]"
   ]
  },
  {
   "cell_type": "code",
   "execution_count": 34,
   "id": "01088d93",
   "metadata": {},
   "outputs": [
    {
     "data": {
      "text/plain": [
       "np.int64(59)"
      ]
     },
     "execution_count": 34,
     "metadata": {},
     "output_type": "execute_result"
    }
   ],
   "source": [
    "arr[-1,-1] # we start from down side aslo"
   ]
  },
  {
   "cell_type": "code",
   "execution_count": 35,
   "id": "c9c1676c",
   "metadata": {},
   "outputs": [
    {
     "data": {
      "text/plain": [
       "(3, (5, 15, 3), 225, dtype('int64'))"
      ]
     },
     "execution_count": 35,
     "metadata": {},
     "output_type": "execute_result"
    }
   ],
   "source": [
    "#3d array\n",
    "arr =np.array(np.arange(225).reshape(5,15,3))\n",
    "arr.ndim, arr.shape, arr.size, arr.dtype"
   ]
  },
  {
   "cell_type": "code",
   "execution_count": 36,
   "id": "23b4a2a4",
   "metadata": {},
   "outputs": [
    {
     "data": {
      "text/plain": [
       "array([[ 0,  1,  2],\n",
       "       [ 3,  4,  5],\n",
       "       [ 6,  7,  8],\n",
       "       [ 9, 10, 11],\n",
       "       [12, 13, 14],\n",
       "       [15, 16, 17],\n",
       "       [18, 19, 20],\n",
       "       [21, 22, 23],\n",
       "       [24, 25, 26],\n",
       "       [27, 28, 29],\n",
       "       [30, 31, 32],\n",
       "       [33, 34, 35],\n",
       "       [36, 37, 38],\n",
       "       [39, 40, 41],\n",
       "       [42, 43, 44]])"
      ]
     },
     "execution_count": 36,
     "metadata": {},
     "output_type": "execute_result"
    }
   ],
   "source": [
    "arr[0]"
   ]
  },
  {
   "cell_type": "code",
   "execution_count": 37,
   "id": "cbf64133",
   "metadata": {},
   "outputs": [
    {
     "data": {
      "text/plain": [
       "array([[ 6,  7,  8],\n",
       "       [ 9, 10, 11],\n",
       "       [12, 13, 14],\n",
       "       [15, 16, 17],\n",
       "       [18, 19, 20],\n",
       "       [21, 22, 23],\n",
       "       [24, 25, 26],\n",
       "       [27, 28, 29],\n",
       "       [30, 31, 32],\n",
       "       [33, 34, 35],\n",
       "       [36, 37, 38],\n",
       "       [39, 40, 41],\n",
       "       [42, 43, 44]])"
      ]
     },
     "execution_count": 37,
     "metadata": {},
     "output_type": "execute_result"
    }
   ],
   "source": [
    "arr[0][2:]"
   ]
  },
  {
   "cell_type": "code",
   "execution_count": 38,
   "id": "d6e6f740",
   "metadata": {},
   "outputs": [
    {
     "data": {
      "text/plain": [
       "array([[  0,   1,   2],\n",
       "       [ 45,  46,  47],\n",
       "       [ 90,  91,  92],\n",
       "       [135, 136, 137],\n",
       "       [180, 181, 182]])"
      ]
     },
     "execution_count": 38,
     "metadata": {},
     "output_type": "execute_result"
    }
   ],
   "source": [
    "arr[:,0,:]"
   ]
  },
  {
   "cell_type": "code",
   "execution_count": 39,
   "id": "11cecac0",
   "metadata": {},
   "outputs": [
    {
     "data": {
      "text/plain": [
       "array([[ 90,  91,  92],\n",
       "       [ 93,  94,  95],\n",
       "       [ 96,  97,  98],\n",
       "       [ 99, 200, 101],\n",
       "       [102, 103, 104],\n",
       "       [105, 106, 107],\n",
       "       [108, 109, 110],\n",
       "       [111, 112, 113],\n",
       "       [114, 115, 116],\n",
       "       [117, 118, 119],\n",
       "       [120, 121, 122],\n",
       "       [123, 124, 125],\n",
       "       [126, 127, 128],\n",
       "       [129, 130, 131],\n",
       "       [132, 133, 134]])"
      ]
     },
     "execution_count": 39,
     "metadata": {},
     "output_type": "execute_result"
    }
   ],
   "source": [
    "arr[2][3][1]=200\n",
    "arr[2]"
   ]
  },
  {
   "cell_type": "code",
   "execution_count": 40,
   "id": "33c547ed",
   "metadata": {},
   "outputs": [],
   "source": [
    "arr =np.array([3,5,2,7,1])"
   ]
  },
  {
   "cell_type": "code",
   "execution_count": 41,
   "id": "1b5e5882",
   "metadata": {},
   "outputs": [
    {
     "data": {
      "text/plain": [
       "array([1, 2, 3, 5, 7])"
      ]
     },
     "execution_count": 41,
     "metadata": {},
     "output_type": "execute_result"
    }
   ],
   "source": [
    "arr.sort()\n",
    "arr"
   ]
  },
  {
   "cell_type": "code",
   "execution_count": 42,
   "id": "9009c5cb",
   "metadata": {},
   "outputs": [
    {
     "data": {
      "text/plain": [
       "array([3, 4, 5, 7, 9])"
      ]
     },
     "execution_count": 42,
     "metadata": {},
     "output_type": "execute_result"
    }
   ],
   "source": [
    "arr+2 # every element of array is + with 2"
   ]
  },
  {
   "cell_type": "code",
   "execution_count": null,
   "id": "cfefa46f",
   "metadata": {},
   "outputs": [
    {
     "data": {
      "text/plain": [
       "array([ 2,  4,  6, 10, 14])"
      ]
     },
     "execution_count": 43,
     "metadata": {},
     "output_type": "execute_result"
    }
   ],
   "source": [
    "arr*2 #every element * with 2 we can also do - , / ,etc opreation"
   ]
  },
  {
   "cell_type": "code",
   "execution_count": 44,
   "id": "48a30955",
   "metadata": {},
   "outputs": [
    {
     "data": {
      "text/plain": [
       "array([ 6,  4,  2, 10,  8])"
      ]
     },
     "execution_count": 44,
     "metadata": {},
     "output_type": "execute_result"
    }
   ],
   "source": [
    "arr =np.array([3,2,1,5,4])\n",
    "arr1 =np.array([3,2,1,5,4])\n",
    "arr+arr1"
   ]
  }
 ],
 "metadata": {
  "kernelspec": {
   "display_name": "Python 3",
   "language": "python",
   "name": "python3"
  },
  "language_info": {
   "codemirror_mode": {
    "name": "ipython",
    "version": 3
   },
   "file_extension": ".py",
   "mimetype": "text/x-python",
   "name": "python",
   "nbconvert_exporter": "python",
   "pygments_lexer": "ipython3",
   "version": "3.12.6"
  }
 },
 "nbformat": 4,
 "nbformat_minor": 5
}
